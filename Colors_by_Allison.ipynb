{
  "nbformat": 4,
  "nbformat_minor": 0,
  "metadata": {
    "colab": {
      "provenance": [],
      "toc_visible": true,
      "include_colab_link": true
    },
    "kernelspec": {
      "name": "python3",
      "display_name": "Python 3"
    },
    "language_info": {
      "name": "python"
    }
  },
  "cells": [
    {
      "cell_type": "markdown",
      "metadata": {
        "id": "view-in-github",
        "colab_type": "text"
      },
      "source": [
        "<a href=\"https://colab.research.google.com/github/harshithareddy0306/Smart-Tutor-AI-AI-Driven-Personalized-Teaching-Support/blob/main/Colors_by_Allison.ipynb\" target=\"_parent\"><img src=\"https://colab.research.google.com/assets/colab-badge.svg\" alt=\"Open In Colab\"/></a>"
      ]
    },
    {
      "cell_type": "markdown",
      "source": [
        "# Colors By Allison\n",
        "\n",
        "Thank you Allison Parrish\n",
        "\n",
        "https://gist.github.com/aparrish/2f562e3737544cf29aaf1af30362f469"
      ],
      "metadata": {
        "id": "ghkm4G_Kan4q"
      }
    },
    {
      "cell_type": "code",
      "source": [],
      "metadata": {
        "id": "LiAV5fxpR2P4"
      },
      "execution_count": null,
      "outputs": []
    },
    {
      "cell_type": "markdown",
      "source": [
        "## Terms"
      ],
      "metadata": {
        "id": "K3C_93JU9xzu"
      }
    },
    {
      "cell_type": "markdown",
      "source": [
        "A way of representing words as vectors in a multi-dimensional space, where the distance and direction between vectors reflect the similarity and relationships among the corresponding words.\n",
        "\n",
        "https://www.ibm.com/topics/word-embeddings\n",
        "\n",
        "### Word2Vec\n",
        "\n",
        "Word2vec is a technique in natural language processing for obtaining vector representations of words. These vectors capture information about the meaning of the word based on the surrounding words. The word2vec algorithm estimates these representations by modeling text in a large corpus.\n",
        "\n",
        "https://en.wikipedia.org/wiki/Word2vec\n",
        "\n",
        "https://gist.github.com/aparrish/2f562e3737544cf29aaf1af30362f469\n",
        "\n",
        "* Turning words into measurable / similar numbers\n",
        "* Word embeddings\n",
        "* Neural Networks, Backpropagation, ArgMax, SoftMax, and Cross Entropy\n",
        "\n",
        "### Neural Network\n",
        "\n",
        "A machine learning method that uses interconnected nodes or neurons to process data in a way that mimics the human brain\n",
        "\n",
        "### Backpropagation\n",
        "\n",
        "Works by testing for errors from the weights of a neuron and then going back and fine tuning those weights, ex. gradient descent\n",
        "\n",
        "### Argmax\n",
        "\n",
        "Returns the indices of the max value along an axis\n",
        "\n",
        "### Softmax\n",
        "\n",
        "A vector of probabilities for each possible outcome such as classification\n",
        "\n",
        "### Cross Entropy\n",
        "\n",
        "Measures the difference, entropy, between probabilities. Entropy is the number of bits required to transmit a randomly selected event from a probability distribution, a Monte Carlo method for importance sampling\n",
        "\n",
        "\n",
        "\n"
      ],
      "metadata": {
        "id": "4nMmtr18uMxL"
      }
    },
    {
      "cell_type": "markdown",
      "source": [
        "### Similarity\n",
        "\n",
        "* A neural network can be used to assign different values to the same word used in different contexts\n",
        "* Activation functions and associated weights are used for each value assigned to a word\n",
        "* Depending on context a word with the largest weight will be chosen\n",
        "* Since a word has multiple values, a vector, it is possible to 'plot' the words thus providing a graphed similarity with other words"
      ],
      "metadata": {
        "id": "fpwEqlGGCsKs"
      }
    },
    {
      "cell_type": "markdown",
      "source": [
        "### CBOW\n",
        "\n",
        "Uses context to predict a target word, a type of unsupervised learning, learning from unlabeled data"
      ],
      "metadata": {
        "id": "udipph2iJDre"
      }
    },
    {
      "cell_type": "markdown",
      "source": [
        "### Skip Gram\n",
        "\n",
        "Predicts context words given a target word"
      ],
      "metadata": {
        "id": "7TCFHM39JGtb"
      }
    },
    {
      "cell_type": "markdown",
      "source": [
        "### Negative Sampling\n",
        "\n",
        "Aims to maximize the similarity of words in the same context and minimize when used in different contexts"
      ],
      "metadata": {
        "id": "byFqWoUqJY1f"
      }
    },
    {
      "cell_type": "markdown",
      "source": [
        "## The Data"
      ],
      "metadata": {
        "id": "T-Ry85-Q9aIt"
      }
    },
    {
      "cell_type": "code",
      "source": [
        "# source = https://gist.github.com/aparrish/2f562e3737544cf29aaf1af30362f469 by Allison Parrish\n",
        "import urllib.request, json\n",
        "\n",
        "url = 'https://raw.githubusercontent.com/gitmystuff/Datasets/main/xkcd.json'\n",
        "with urllib.request.urlopen(url) as url:\n",
        "    color_data = json.load(url)\n",
        "\n",
        "type(color_data)"
      ],
      "metadata": {
        "id": "igklE6u7SoxM",
        "outputId": "3625049e-843b-44a6-92d1-e139624826ad",
        "colab": {
          "base_uri": "https://localhost:8080/"
        }
      },
      "execution_count": null,
      "outputs": [
        {
          "output_type": "execute_result",
          "data": {
            "text/plain": [
              "dict"
            ]
          },
          "metadata": {},
          "execution_count": 1
        }
      ]
    },
    {
      "cell_type": "code",
      "source": [
        "color_data.keys()"
      ],
      "metadata": {
        "colab": {
          "base_uri": "https://localhost:8080/"
        },
        "id": "Wm3eeOvz97tI",
        "outputId": "6fa495c8-3abc-4b61-b12a-f871284a042b"
      },
      "execution_count": null,
      "outputs": [
        {
          "output_type": "execute_result",
          "data": {
            "text/plain": [
              "dict_keys(['description', 'colors'])"
            ]
          },
          "metadata": {},
          "execution_count": 2
        }
      ]
    },
    {
      "cell_type": "code",
      "source": [
        "print(color_data['description'])\n",
        "print(color_data['colors'][0:5])"
      ],
      "metadata": {
        "colab": {
          "base_uri": "https://localhost:8080/"
        },
        "id": "n9dbDuTz-NWP",
        "outputId": "6f2affcd-ee21-436a-9d1f-8794698b810f"
      },
      "execution_count": null,
      "outputs": [
        {
          "output_type": "stream",
          "name": "stdout",
          "text": [
            "The 954 most common RGB monitor colors, as defined by several hundred thousand participants in the xkcd color name survey.\n",
            "[{'color': 'darker blue', 'hex': '#011288'}, {'color': 'darker green', 'hex': '#087804'}, {'color': 'green again', 'hex': '#16d43f'}, {'color': 'darker purple', 'hex': '#5f1b6b'}, {'color': 'darker pink', 'hex': '#c4387f'}]\n"
          ]
        }
      ]
    },
    {
      "cell_type": "code",
      "source": [
        "import math\n",
        "\n",
        "def hex_to_int(s):\n",
        "    h = s\n",
        "    s = s.lstrip(\"#\")\n",
        "    return int(s[:2], 16), int(s[2:4], 16), int(s[4:6], 16), h\n",
        "\n",
        "def distance(coord1, coord2):\n",
        "    # note, this is VERY SLOW, don't use for actual code\n",
        "    coord1 = coord1[:3]\n",
        "    coord2 = coord2[:3]\n",
        "    return math.sqrt(sum([(i - j)**2 for i, j in zip(coord1, coord2)]))\n",
        "\n",
        "def subtractv(coord1, coord2):\n",
        "    coord1 = coord1[:3]\n",
        "    coord2 = coord2[:3]\n",
        "    return [c1 - c2 for c1, c2 in zip(coord1, coord2)]\n",
        "\n",
        "def addv(coord1, coord2):\n",
        "    coord1 = coord1[:3]\n",
        "    coord2 = coord2[:3]\n",
        "    return [c1 + c2 for c1, c2 in zip(coord1, coord2)]\n",
        "\n",
        "def meanv(coords):\n",
        "    # assumes every item in coords has same length as item 0\n",
        "    sumv = [0] * len(coords[0])\n",
        "    for item in coords:\n",
        "        for i in range(len(item)):\n",
        "            sumv[i] += item[i]\n",
        "    mean = [0] * len(sumv)\n",
        "    for i in range(len(sumv)):\n",
        "        mean[i] = float(sumv[i]) / len(coords)\n",
        "    return mean\n",
        "\n",
        "def closest(space, coord, n=5):\n",
        "    coord = coord[:3]\n",
        "    closest = []\n",
        "    for key in sorted(space.keys(),\n",
        "                        key=lambda x: distance(coord, space[x]))[:n]:\n",
        "        closest.append(key)\n",
        "    return closest"
      ],
      "metadata": {
        "id": "NHvu-VMqWQ2b"
      },
      "execution_count": null,
      "outputs": []
    },
    {
      "cell_type": "code",
      "source": [
        "colors = dict()\n",
        "for item in color_data['colors']:\n",
        "    colors[item['color']] = hex_to_int(item['hex'])\n",
        "\n",
        "print('olive', colors['olive'])\n",
        "print('red', colors['red'])\n",
        "print('black', colors['black'])"
      ],
      "metadata": {
        "id": "V74PwNXsVgu_",
        "outputId": "461970f3-af4c-4a4a-8e78-af2dce139546",
        "colab": {
          "base_uri": "https://localhost:8080/"
        }
      },
      "execution_count": null,
      "outputs": [
        {
          "output_type": "stream",
          "name": "stdout",
          "text": [
            "olive (110, 117, 14, '#6e750e')\n",
            "red (229, 0, 0, '#e50000')\n",
            "black (0, 0, 0, '#000000')\n"
          ]
        }
      ]
    },
    {
      "cell_type": "code",
      "source": [
        "print('darker purple', colors['darker purple'])"
      ],
      "metadata": {
        "colab": {
          "base_uri": "https://localhost:8080/"
        },
        "id": "MSJlc6ZNO5YC",
        "outputId": "0bee663a-e28f-4e77-c21d-b4a681564ba6"
      },
      "execution_count": null,
      "outputs": [
        {
          "output_type": "stream",
          "name": "stdout",
          "text": [
            "darker purple (95, 27, 107, '#5f1b6b')\n"
          ]
        }
      ]
    },
    {
      "cell_type": "code",
      "source": [
        "closest(colors, colors['red'])"
      ],
      "metadata": {
        "id": "La7Dm7p5XCwa",
        "outputId": "f3978b2e-11b7-4fd4-ad6f-02567786d3f0",
        "colab": {
          "base_uri": "https://localhost:8080/"
        }
      },
      "execution_count": null,
      "outputs": [
        {
          "output_type": "execute_result",
          "data": {
            "text/plain": [
              "['red', 'fire engine red', 'bright red', 'tomato red', 'cherry red']"
            ]
          },
          "metadata": {},
          "execution_count": 7
        }
      ]
    },
    {
      "cell_type": "code",
      "source": [
        "# check version\n",
        "import plotly\n",
        "plotly.__version__"
      ],
      "metadata": {
        "colab": {
          "base_uri": "https://localhost:8080/",
          "height": 36
        },
        "id": "sA2_pJ0M8_RK",
        "outputId": "f8db180f-6489-40ad-806e-4803ab30743f"
      },
      "execution_count": null,
      "outputs": [
        {
          "output_type": "execute_result",
          "data": {
            "text/plain": [
              "'5.15.0'"
            ],
            "application/vnd.google.colaboratory.intrinsic+json": {
              "type": "string"
            }
          },
          "metadata": {},
          "execution_count": 8
        }
      ]
    },
    {
      "cell_type": "code",
      "source": [
        "import numpy as np\n",
        "import pandas as pd\n",
        "\n",
        "def rgb_max(row):\n",
        "  return row.index[np.argmax(row)]\n",
        "\n",
        "df = pd.DataFrame(colors).transpose()\n",
        "df.columns = ['red', 'green', 'blue', 'hex']\n",
        "# df['group'] = df.apply(lambda x: df.columns[x.argmax()], axis = 1)\n",
        "df['group'] = df[['red', 'green', 'blue']].apply(rgb_max, axis = 1)\n",
        "df['color'] = df.index\n",
        "df.head()"
      ],
      "metadata": {
        "colab": {
          "base_uri": "https://localhost:8080/",
          "height": 206
        },
        "id": "OOT25kMbCSjF",
        "outputId": "1f2287ca-df6b-4612-e33f-2d467664ae52"
      },
      "execution_count": null,
      "outputs": [
        {
          "output_type": "execute_result",
          "data": {
            "text/plain": [
              "               red green blue      hex  group          color\n",
              "darker blue      1    18  136  #011288   blue    darker blue\n",
              "darker green     8   120    4  #087804  green   darker green\n",
              "green again     22   212   63  #16d43f  green    green again\n",
              "darker purple   95    27  107  #5f1b6b   blue  darker purple\n",
              "darker pink    196    56  127  #c4387f    red    darker pink"
            ],
            "text/html": [
              "\n",
              "  <div id=\"df-8b024f0b-f09e-40cc-8968-e6e74c540220\" class=\"colab-df-container\">\n",
              "    <div>\n",
              "<style scoped>\n",
              "    .dataframe tbody tr th:only-of-type {\n",
              "        vertical-align: middle;\n",
              "    }\n",
              "\n",
              "    .dataframe tbody tr th {\n",
              "        vertical-align: top;\n",
              "    }\n",
              "\n",
              "    .dataframe thead th {\n",
              "        text-align: right;\n",
              "    }\n",
              "</style>\n",
              "<table border=\"1\" class=\"dataframe\">\n",
              "  <thead>\n",
              "    <tr style=\"text-align: right;\">\n",
              "      <th></th>\n",
              "      <th>red</th>\n",
              "      <th>green</th>\n",
              "      <th>blue</th>\n",
              "      <th>hex</th>\n",
              "      <th>group</th>\n",
              "      <th>color</th>\n",
              "    </tr>\n",
              "  </thead>\n",
              "  <tbody>\n",
              "    <tr>\n",
              "      <th>darker blue</th>\n",
              "      <td>1</td>\n",
              "      <td>18</td>\n",
              "      <td>136</td>\n",
              "      <td>#011288</td>\n",
              "      <td>blue</td>\n",
              "      <td>darker blue</td>\n",
              "    </tr>\n",
              "    <tr>\n",
              "      <th>darker green</th>\n",
              "      <td>8</td>\n",
              "      <td>120</td>\n",
              "      <td>4</td>\n",
              "      <td>#087804</td>\n",
              "      <td>green</td>\n",
              "      <td>darker green</td>\n",
              "    </tr>\n",
              "    <tr>\n",
              "      <th>green again</th>\n",
              "      <td>22</td>\n",
              "      <td>212</td>\n",
              "      <td>63</td>\n",
              "      <td>#16d43f</td>\n",
              "      <td>green</td>\n",
              "      <td>green again</td>\n",
              "    </tr>\n",
              "    <tr>\n",
              "      <th>darker purple</th>\n",
              "      <td>95</td>\n",
              "      <td>27</td>\n",
              "      <td>107</td>\n",
              "      <td>#5f1b6b</td>\n",
              "      <td>blue</td>\n",
              "      <td>darker purple</td>\n",
              "    </tr>\n",
              "    <tr>\n",
              "      <th>darker pink</th>\n",
              "      <td>196</td>\n",
              "      <td>56</td>\n",
              "      <td>127</td>\n",
              "      <td>#c4387f</td>\n",
              "      <td>red</td>\n",
              "      <td>darker pink</td>\n",
              "    </tr>\n",
              "  </tbody>\n",
              "</table>\n",
              "</div>\n",
              "    <div class=\"colab-df-buttons\">\n",
              "\n",
              "  <div class=\"colab-df-container\">\n",
              "    <button class=\"colab-df-convert\" onclick=\"convertToInteractive('df-8b024f0b-f09e-40cc-8968-e6e74c540220')\"\n",
              "            title=\"Convert this dataframe to an interactive table.\"\n",
              "            style=\"display:none;\">\n",
              "\n",
              "  <svg xmlns=\"http://www.w3.org/2000/svg\" height=\"24px\" viewBox=\"0 -960 960 960\">\n",
              "    <path d=\"M120-120v-720h720v720H120Zm60-500h600v-160H180v160Zm220 220h160v-160H400v160Zm0 220h160v-160H400v160ZM180-400h160v-160H180v160Zm440 0h160v-160H620v160ZM180-180h160v-160H180v160Zm440 0h160v-160H620v160Z\"/>\n",
              "  </svg>\n",
              "    </button>\n",
              "\n",
              "  <style>\n",
              "    .colab-df-container {\n",
              "      display:flex;\n",
              "      gap: 12px;\n",
              "    }\n",
              "\n",
              "    .colab-df-convert {\n",
              "      background-color: #E8F0FE;\n",
              "      border: none;\n",
              "      border-radius: 50%;\n",
              "      cursor: pointer;\n",
              "      display: none;\n",
              "      fill: #1967D2;\n",
              "      height: 32px;\n",
              "      padding: 0 0 0 0;\n",
              "      width: 32px;\n",
              "    }\n",
              "\n",
              "    .colab-df-convert:hover {\n",
              "      background-color: #E2EBFA;\n",
              "      box-shadow: 0px 1px 2px rgba(60, 64, 67, 0.3), 0px 1px 3px 1px rgba(60, 64, 67, 0.15);\n",
              "      fill: #174EA6;\n",
              "    }\n",
              "\n",
              "    .colab-df-buttons div {\n",
              "      margin-bottom: 4px;\n",
              "    }\n",
              "\n",
              "    [theme=dark] .colab-df-convert {\n",
              "      background-color: #3B4455;\n",
              "      fill: #D2E3FC;\n",
              "    }\n",
              "\n",
              "    [theme=dark] .colab-df-convert:hover {\n",
              "      background-color: #434B5C;\n",
              "      box-shadow: 0px 1px 3px 1px rgba(0, 0, 0, 0.15);\n",
              "      filter: drop-shadow(0px 1px 2px rgba(0, 0, 0, 0.3));\n",
              "      fill: #FFFFFF;\n",
              "    }\n",
              "  </style>\n",
              "\n",
              "    <script>\n",
              "      const buttonEl =\n",
              "        document.querySelector('#df-8b024f0b-f09e-40cc-8968-e6e74c540220 button.colab-df-convert');\n",
              "      buttonEl.style.display =\n",
              "        google.colab.kernel.accessAllowed ? 'block' : 'none';\n",
              "\n",
              "      async function convertToInteractive(key) {\n",
              "        const element = document.querySelector('#df-8b024f0b-f09e-40cc-8968-e6e74c540220');\n",
              "        const dataTable =\n",
              "          await google.colab.kernel.invokeFunction('convertToInteractive',\n",
              "                                                    [key], {});\n",
              "        if (!dataTable) return;\n",
              "\n",
              "        const docLinkHtml = 'Like what you see? Visit the ' +\n",
              "          '<a target=\"_blank\" href=https://colab.research.google.com/notebooks/data_table.ipynb>data table notebook</a>'\n",
              "          + ' to learn more about interactive tables.';\n",
              "        element.innerHTML = '';\n",
              "        dataTable['output_type'] = 'display_data';\n",
              "        await google.colab.output.renderOutput(dataTable, element);\n",
              "        const docLink = document.createElement('div');\n",
              "        docLink.innerHTML = docLinkHtml;\n",
              "        element.appendChild(docLink);\n",
              "      }\n",
              "    </script>\n",
              "  </div>\n",
              "\n",
              "\n",
              "<div id=\"df-c69f6470-1fac-4232-9239-fcf04c0ccbcf\">\n",
              "  <button class=\"colab-df-quickchart\" onclick=\"quickchart('df-c69f6470-1fac-4232-9239-fcf04c0ccbcf')\"\n",
              "            title=\"Suggest charts\"\n",
              "            style=\"display:none;\">\n",
              "\n",
              "<svg xmlns=\"http://www.w3.org/2000/svg\" height=\"24px\"viewBox=\"0 0 24 24\"\n",
              "     width=\"24px\">\n",
              "    <g>\n",
              "        <path d=\"M19 3H5c-1.1 0-2 .9-2 2v14c0 1.1.9 2 2 2h14c1.1 0 2-.9 2-2V5c0-1.1-.9-2-2-2zM9 17H7v-7h2v7zm4 0h-2V7h2v10zm4 0h-2v-4h2v4z\"/>\n",
              "    </g>\n",
              "</svg>\n",
              "  </button>\n",
              "\n",
              "<style>\n",
              "  .colab-df-quickchart {\n",
              "      --bg-color: #E8F0FE;\n",
              "      --fill-color: #1967D2;\n",
              "      --hover-bg-color: #E2EBFA;\n",
              "      --hover-fill-color: #174EA6;\n",
              "      --disabled-fill-color: #AAA;\n",
              "      --disabled-bg-color: #DDD;\n",
              "  }\n",
              "\n",
              "  [theme=dark] .colab-df-quickchart {\n",
              "      --bg-color: #3B4455;\n",
              "      --fill-color: #D2E3FC;\n",
              "      --hover-bg-color: #434B5C;\n",
              "      --hover-fill-color: #FFFFFF;\n",
              "      --disabled-bg-color: #3B4455;\n",
              "      --disabled-fill-color: #666;\n",
              "  }\n",
              "\n",
              "  .colab-df-quickchart {\n",
              "    background-color: var(--bg-color);\n",
              "    border: none;\n",
              "    border-radius: 50%;\n",
              "    cursor: pointer;\n",
              "    display: none;\n",
              "    fill: var(--fill-color);\n",
              "    height: 32px;\n",
              "    padding: 0;\n",
              "    width: 32px;\n",
              "  }\n",
              "\n",
              "  .colab-df-quickchart:hover {\n",
              "    background-color: var(--hover-bg-color);\n",
              "    box-shadow: 0 1px 2px rgba(60, 64, 67, 0.3), 0 1px 3px 1px rgba(60, 64, 67, 0.15);\n",
              "    fill: var(--button-hover-fill-color);\n",
              "  }\n",
              "\n",
              "  .colab-df-quickchart-complete:disabled,\n",
              "  .colab-df-quickchart-complete:disabled:hover {\n",
              "    background-color: var(--disabled-bg-color);\n",
              "    fill: var(--disabled-fill-color);\n",
              "    box-shadow: none;\n",
              "  }\n",
              "\n",
              "  .colab-df-spinner {\n",
              "    border: 2px solid var(--fill-color);\n",
              "    border-color: transparent;\n",
              "    border-bottom-color: var(--fill-color);\n",
              "    animation:\n",
              "      spin 1s steps(1) infinite;\n",
              "  }\n",
              "\n",
              "  @keyframes spin {\n",
              "    0% {\n",
              "      border-color: transparent;\n",
              "      border-bottom-color: var(--fill-color);\n",
              "      border-left-color: var(--fill-color);\n",
              "    }\n",
              "    20% {\n",
              "      border-color: transparent;\n",
              "      border-left-color: var(--fill-color);\n",
              "      border-top-color: var(--fill-color);\n",
              "    }\n",
              "    30% {\n",
              "      border-color: transparent;\n",
              "      border-left-color: var(--fill-color);\n",
              "      border-top-color: var(--fill-color);\n",
              "      border-right-color: var(--fill-color);\n",
              "    }\n",
              "    40% {\n",
              "      border-color: transparent;\n",
              "      border-right-color: var(--fill-color);\n",
              "      border-top-color: var(--fill-color);\n",
              "    }\n",
              "    60% {\n",
              "      border-color: transparent;\n",
              "      border-right-color: var(--fill-color);\n",
              "    }\n",
              "    80% {\n",
              "      border-color: transparent;\n",
              "      border-right-color: var(--fill-color);\n",
              "      border-bottom-color: var(--fill-color);\n",
              "    }\n",
              "    90% {\n",
              "      border-color: transparent;\n",
              "      border-bottom-color: var(--fill-color);\n",
              "    }\n",
              "  }\n",
              "</style>\n",
              "\n",
              "  <script>\n",
              "    async function quickchart(key) {\n",
              "      const quickchartButtonEl =\n",
              "        document.querySelector('#' + key + ' button');\n",
              "      quickchartButtonEl.disabled = true;  // To prevent multiple clicks.\n",
              "      quickchartButtonEl.classList.add('colab-df-spinner');\n",
              "      try {\n",
              "        const charts = await google.colab.kernel.invokeFunction(\n",
              "            'suggestCharts', [key], {});\n",
              "      } catch (error) {\n",
              "        console.error('Error during call to suggestCharts:', error);\n",
              "      }\n",
              "      quickchartButtonEl.classList.remove('colab-df-spinner');\n",
              "      quickchartButtonEl.classList.add('colab-df-quickchart-complete');\n",
              "    }\n",
              "    (() => {\n",
              "      let quickchartButtonEl =\n",
              "        document.querySelector('#df-c69f6470-1fac-4232-9239-fcf04c0ccbcf button');\n",
              "      quickchartButtonEl.style.display =\n",
              "        google.colab.kernel.accessAllowed ? 'block' : 'none';\n",
              "    })();\n",
              "  </script>\n",
              "</div>\n",
              "\n",
              "    </div>\n",
              "  </div>\n"
            ],
            "application/vnd.google.colaboratory.intrinsic+json": {
              "type": "dataframe",
              "variable_name": "df",
              "summary": "{\n  \"name\": \"df\",\n  \"rows\": 954,\n  \"fields\": [\n    {\n      \"column\": \"red\",\n      \"properties\": {\n        \"dtype\": \"date\",\n        \"min\": 0,\n        \"max\": 255,\n        \"num_unique_values\": 238,\n        \"samples\": [\n          62,\n          252,\n          158\n        ],\n        \"semantic_type\": \"\",\n        \"description\": \"\"\n      }\n    },\n    {\n      \"column\": \"green\",\n      \"properties\": {\n        \"dtype\": \"date\",\n        \"min\": 0,\n        \"max\": 255,\n        \"num_unique_values\": 238,\n        \"samples\": [\n          84,\n          163,\n          52\n        ],\n        \"semantic_type\": \"\",\n        \"description\": \"\"\n      }\n    },\n    {\n      \"column\": \"blue\",\n      \"properties\": {\n        \"dtype\": \"date\",\n        \"min\": 0,\n        \"max\": 255,\n        \"num_unique_values\": 241,\n        \"samples\": [\n          60,\n          87,\n          98\n        ],\n        \"semantic_type\": \"\",\n        \"description\": \"\"\n      }\n    },\n    {\n      \"column\": \"hex\",\n      \"properties\": {\n        \"dtype\": \"string\",\n        \"num_unique_values\": 954,\n        \"samples\": [\n          \"#a75e09\",\n          \"#6ba353\",\n          \"#411900\"\n        ],\n        \"semantic_type\": \"\",\n        \"description\": \"\"\n      }\n    },\n    {\n      \"column\": \"group\",\n      \"properties\": {\n        \"dtype\": \"category\",\n        \"num_unique_values\": 3,\n        \"samples\": [\n          \"blue\",\n          \"green\",\n          \"red\"\n        ],\n        \"semantic_type\": \"\",\n        \"description\": \"\"\n      }\n    },\n    {\n      \"column\": \"color\",\n      \"properties\": {\n        \"dtype\": \"string\",\n        \"num_unique_values\": 954,\n        \"samples\": [\n          \"raw umber\",\n          \"off green\",\n          \"chocolate brown\"\n        ],\n        \"semantic_type\": \"\",\n        \"description\": \"\"\n      }\n    }\n  ]\n}"
            }
          },
          "metadata": {},
          "execution_count": 9
        }
      ]
    },
    {
      "cell_type": "code",
      "source": [
        "# plot 3 dimensions had to remove legend till more is learnt\n",
        "import plotly.express as px\n",
        "\n",
        "fig = px.scatter_3d(df, x = 'red',\n",
        "                    y = 'green',\n",
        "                    z = 'blue',\n",
        "                    hover_data = ['color', 'group'])\n",
        "\n",
        "fig.update_traces(marker=dict(\n",
        "    # size=12,\n",
        "    # line=dict(width=2, color=df['hex'])),\n",
        "    color=df['group']),\n",
        "    selector=dict(mode='markers')\n",
        ")\n",
        "fig.update_layout(\n",
        "    showlegend=False,\n",
        "    scene = dict(\n",
        "        xaxis = dict(title = ''),\n",
        "        yaxis = dict(title = ''),\n",
        "        zaxis = dict(title = '')\n",
        "    )\n",
        ")\n",
        "fig.show()"
      ],
      "metadata": {
        "colab": {
          "base_uri": "https://localhost:8080/",
          "height": 542
        },
        "id": "PLBF7DxB9Apf",
        "outputId": "789dbd60-fc55-4863-a8a6-edc0480b6299"
      },
      "execution_count": null,
      "outputs": [
        {
          "output_type": "display_data",
          "data": {
            "text/html": [
              "<html>\n",
              "<head><meta charset=\"utf-8\" /></head>\n",
              "<body>\n",
              "    <div>            <script src=\"https://cdnjs.cloudflare.com/ajax/libs/mathjax/2.7.5/MathJax.js?config=TeX-AMS-MML_SVG\"></script><script type=\"text/javascript\">if (window.MathJax && window.MathJax.Hub && window.MathJax.Hub.Config) {window.MathJax.Hub.Config({SVG: {font: \"STIX-Web\"}});}</script>                <script type=\"text/javascript\">window.PlotlyConfig = {MathJaxConfig: 'local'};</script>\n",
              "        <script charset=\"utf-8\" src=\"https://cdn.plot.ly/plotly-2.24.1.min.js\"></script>                <div id=\"7edbd462-2470-4d6d-b023-730d8f5ba9ae\" class=\"plotly-graph-div\" style=\"height:525px; width:100%;\"></div>            <script type=\"text/javascript\">                                    window.PLOTLYENV=window.PLOTLYENV || {};                                    if (document.getElementById(\"7edbd462-2470-4d6d-b023-730d8f5ba9ae\")) {                    Plotly.newPlot(                        \"7edbd462-2470-4d6d-b023-730d8f5ba9ae\",                        [{\"customdata\":[[\"darker blue\",\"blue\"],[\"darker green\",\"green\"],[\"green again\",\"green\"],[\"darker purple\",\"blue\"],[\"darker pink\",\"red\"],[\"cloudy blue\",\"blue\"],[\"dark pastel green\",\"green\"],[\"dust\",\"red\"],[\"electric lime\",\"green\"],[\"fresh green\",\"green\"],[\"light eggplant\",\"red\"],[\"nasty green\",\"green\"],[\"really light blue\",\"green\"],[\"tea\",\"green\"],[\"warm purple\",\"red\"],[\"yellowish tan\",\"red\"],[\"cement\",\"red\"],[\"dark grass green\",\"green\"],[\"dusty teal\",\"green\"],[\"grey teal\",\"green\"],[\"macaroni and cheese\",\"red\"],[\"pinkish tan\",\"red\"],[\"spruce\",\"green\"],[\"strong blue\",\"blue\"],[\"toxic green\",\"green\"],[\"windows blue\",\"blue\"],[\"blue blue\",\"blue\"],[\"blue with a hint of purple\",\"blue\"],[\"booger\",\"green\"],[\"bright sea green\",\"green\"],[\"dark green blue\",\"green\"],[\"deep turquoise\",\"blue\"],[\"green teal\",\"green\"],[\"strong pink\",\"red\"],[\"bland\",\"red\"],[\"deep aqua\",\"blue\"],[\"lavender pink\",\"red\"],[\"light moss green\",\"green\"],[\"light seafoam green\",\"green\"],[\"olive yellow\",\"red\"],[\"pig pink\",\"red\"],[\"deep lilac\",\"blue\"],[\"desert\",\"red\"],[\"dusty lavender\",\"red\"],[\"purpley grey\",\"red\"],[\"purply\",\"blue\"],[\"candy pink\",\"red\"],[\"light pastel green\",\"green\"],[\"boring green\",\"green\"],[\"kiwi green\",\"green\"],[\"light grey green\",\"green\"],[\"orange pink\",\"red\"],[\"tea green\",\"green\"],[\"very light brown\",\"red\"],[\"egg shell\",\"red\"],[\"eggplant purple\",\"red\"],[\"powder pink\",\"red\"],[\"reddish grey\",\"red\"],[\"baby shit brown\",\"red\"],[\"liliac\",\"blue\"],[\"stormy blue\",\"blue\"],[\"ugly brown\",\"red\"],[\"custard\",\"red\"],[\"darkish pink\",\"red\"],[\"deep brown\",\"red\"],[\"greenish beige\",\"green\"],[\"manilla\",\"red\"],[\"off blue\",\"blue\"],[\"battleship grey\",\"blue\"],[\"browny green\",\"red\"],[\"bruise\",\"red\"],[\"kelley green\",\"green\"],[\"sickly yellow\",\"green\"],[\"sunny yellow\",\"red\"],[\"azul\",\"blue\"],[\"darkgreen\",\"green\"],[\"green\\u002fyellow\",\"green\"],[\"lichen\",\"green\"],[\"light light green\",\"green\"],[\"pale gold\",\"red\"],[\"sun yellow\",\"red\"],[\"tan green\",\"green\"],[\"burple\",\"blue\"],[\"butterscotch\",\"red\"],[\"toupe\",\"red\"],[\"dark cream\",\"red\"],[\"indian red\",\"red\"],[\"light lavendar\",\"blue\"],[\"poison green\",\"green\"],[\"baby puke green\",\"green\"],[\"bright yellow green\",\"green\"],[\"charcoal grey\",\"blue\"],[\"squash\",\"red\"],[\"cinnamon\",\"red\"],[\"light pea green\",\"green\"],[\"radioactive green\",\"green\"],[\"raw sienna\",\"red\"],[\"baby purple\",\"blue\"],[\"cocoa\",\"red\"],[\"light royal blue\",\"blue\"],[\"orangeish\",\"red\"],[\"rust brown\",\"red\"],[\"sand brown\",\"red\"],[\"swamp\",\"green\"],[\"tealish green\",\"green\"],[\"burnt siena\",\"red\"],[\"camo\",\"green\"],[\"dusk blue\",\"blue\"],[\"fern\",\"green\"],[\"old rose\",\"red\"],[\"pale light green\",\"green\"],[\"peachy pink\",\"red\"],[\"rosy pink\",\"red\"],[\"light bluish green\",\"green\"],[\"light bright green\",\"green\"],[\"light neon green\",\"green\"],[\"light seafoam\",\"green\"],[\"tiffany blue\",\"green\"],[\"washed out green\",\"green\"],[\"browny orange\",\"red\"],[\"nice blue\",\"blue\"],[\"sapphire\",\"blue\"],[\"greyish teal\",\"green\"],[\"orangey yellow\",\"red\"],[\"parchment\",\"red\"],[\"straw\",\"red\"],[\"very dark brown\",\"red\"],[\"terracota\",\"red\"],[\"ugly blue\",\"blue\"],[\"clear blue\",\"blue\"],[\"creme\",\"red\"],[\"foam green\",\"green\"],[\"grey\\u002fgreen\",\"green\"],[\"light gold\",\"red\"],[\"seafoam blue\",\"green\"],[\"topaz\",\"green\"],[\"violet pink\",\"blue\"],[\"wintergreen\",\"green\"],[\"yellow tan\",\"red\"],[\"dark fuchsia\",\"red\"],[\"indigo blue\",\"blue\"],[\"light yellowish green\",\"green\"],[\"pale magenta\",\"red\"],[\"rich purple\",\"red\"],[\"sunflower yellow\",\"red\"],[\"green\\u002fblue\",\"green\"],[\"leather\",\"red\"],[\"racing green\",\"green\"],[\"vivid purple\",\"blue\"],[\"dark royal blue\",\"blue\"],[\"hazel\",\"red\"],[\"muted pink\",\"red\"],[\"booger green\",\"green\"],[\"canary\",\"green\"],[\"cool grey\",\"blue\"],[\"dark taupe\",\"red\"],[\"darkish purple\",\"red\"],[\"true green\",\"green\"],[\"coral pink\",\"red\"],[\"dark sage\",\"green\"],[\"dark slate blue\",\"blue\"],[\"flat blue\",\"blue\"],[\"mushroom\",\"red\"],[\"rich blue\",\"blue\"],[\"dirty purple\",\"red\"],[\"greenblue\",\"green\"],[\"icky green\",\"green\"],[\"light khaki\",\"green\"],[\"warm blue\",\"blue\"],[\"dark hot pink\",\"red\"],[\"deep sea blue\",\"blue\"],[\"carmine\",\"red\"],[\"dark yellow green\",\"green\"],[\"pale peach\",\"red\"],[\"plum purple\",\"blue\"],[\"golden rod\",\"red\"],[\"neon red\",\"red\"],[\"old pink\",\"red\"],[\"very pale blue\",\"green\"],[\"blood orange\",\"red\"],[\"grapefruit\",\"red\"],[\"sand yellow\",\"red\"],[\"clay brown\",\"red\"],[\"dark blue grey\",\"blue\"],[\"flat green\",\"green\"],[\"light green blue\",\"green\"],[\"warm pink\",\"red\"],[\"dodger blue\",\"blue\"],[\"gross green\",\"green\"],[\"ice\",\"green\"],[\"metallic blue\",\"blue\"],[\"pale salmon\",\"red\"],[\"sap green\",\"green\"],[\"algae\",\"green\"],[\"bluey grey\",\"blue\"],[\"greeny grey\",\"green\"],[\"highlighter green\",\"green\"],[\"light light blue\",\"green\"],[\"light mint\",\"green\"],[\"raw umber\",\"red\"],[\"vivid blue\",\"blue\"],[\"deep lavender\",\"blue\"],[\"dull teal\",\"green\"],[\"light greenish blue\",\"green\"],[\"mud green\",\"green\"],[\"pinky\",\"red\"],[\"red wine\",\"red\"],[\"shit green\",\"green\"],[\"tan brown\",\"red\"],[\"darkblue\",\"blue\"],[\"rosa\",\"red\"],[\"lipstick\",\"red\"],[\"pale mauve\",\"red\"],[\"claret\",\"red\"],[\"dandelion\",\"red\"],[\"orangered\",\"red\"],[\"poop green\",\"green\"],[\"ruby\",\"red\"],[\"dark\",\"blue\"],[\"greenish turquoise\",\"green\"],[\"pastel red\",\"red\"],[\"piss yellow\",\"red\"],[\"bright cyan\",\"blue\"],[\"dark coral\",\"red\"],[\"algae green\",\"green\"],[\"darkish red\",\"red\"],[\"reddy brown\",\"red\"],[\"blush pink\",\"red\"],[\"camouflage green\",\"green\"],[\"lawn green\",\"green\"],[\"putty\",\"red\"],[\"vibrant blue\",\"blue\"],[\"dark sand\",\"red\"],[\"purple\\u002fblue\",\"blue\"],[\"saffron\",\"red\"],[\"twilight\",\"blue\"],[\"warm brown\",\"red\"],[\"bluegrey\",\"blue\"],[\"bubble gum pink\",\"red\"],[\"duck egg blue\",\"green\"],[\"greenish cyan\",\"green\"],[\"petrol\",\"blue\"],[\"royal\",\"blue\"],[\"butter\",\"red\"],[\"dusty orange\",\"red\"],[\"off yellow\",\"green\"],[\"pale olive green\",\"green\"],[\"orangish\",\"red\"],[\"leaf\",\"green\"],[\"light blue grey\",\"blue\"],[\"dried blood\",\"red\"],[\"lightish purple\",\"blue\"],[\"rusty red\",\"red\"],[\"lavender blue\",\"blue\"],[\"light grass green\",\"green\"],[\"light mint green\",\"green\"],[\"sunflower\",\"red\"],[\"velvet\",\"red\"],[\"brick orange\",\"red\"],[\"lightish red\",\"red\"],[\"pure blue\",\"blue\"],[\"twilight blue\",\"blue\"],[\"violet red\",\"red\"],[\"yellowy brown\",\"red\"],[\"carnation\",\"red\"],[\"muddy yellow\",\"red\"],[\"dark seafoam green\",\"green\"],[\"deep rose\",\"red\"],[\"dusty red\",\"red\"],[\"grey\\u002fblue\",\"blue\"],[\"lemon lime\",\"green\"],[\"purple\\u002fpink\",\"blue\"],[\"brown yellow\",\"red\"],[\"purple brown\",\"red\"],[\"wisteria\",\"blue\"],[\"banana yellow\",\"green\"],[\"lipstick red\",\"red\"],[\"water blue\",\"blue\"],[\"brown grey\",\"red\"],[\"vibrant purple\",\"blue\"],[\"baby green\",\"green\"],[\"barf green\",\"green\"],[\"eggshell blue\",\"green\"],[\"sandy yellow\",\"red\"],[\"cool green\",\"green\"],[\"pale\",\"red\"],[\"blue\\u002fgrey\",\"blue\"],[\"hot magenta\",\"red\"],[\"greyblue\",\"blue\"],[\"purpley\",\"blue\"],[\"baby shit green\",\"green\"],[\"brownish pink\",\"red\"],[\"dark aquamarine\",\"green\"],[\"diarrhea\",\"red\"],[\"light mustard\",\"red\"],[\"pale sky blue\",\"blue\"],[\"turtle green\",\"green\"],[\"bright olive\",\"green\"],[\"dark grey blue\",\"blue\"],[\"greeny brown\",\"red\"],[\"lemon green\",\"green\"],[\"light periwinkle\",\"blue\"],[\"seaweed green\",\"green\"],[\"sunshine yellow\",\"red\"],[\"ugly purple\",\"red\"],[\"medium pink\",\"red\"],[\"puke brown\",\"red\"],[\"very light pink\",\"red\"],[\"viridian\",\"green\"],[\"bile\",\"green\"],[\"faded yellow\",\"green\"],[\"very pale green\",\"green\"],[\"vibrant green\",\"green\"],[\"bright lime\",\"green\"],[\"spearmint\",\"green\"],[\"light aquamarine\",\"green\"],[\"light sage\",\"green\"],[\"yellowgreen\",\"green\"],[\"baby poo\",\"red\"],[\"dark seafoam\",\"green\"],[\"deep teal\",\"blue\"],[\"heather\",\"blue\"],[\"rust orange\",\"red\"],[\"dirty blue\",\"blue\"],[\"fern green\",\"green\"],[\"bright lilac\",\"blue\"],[\"weird green\",\"green\"],[\"peacock blue\",\"blue\"],[\"avocado green\",\"green\"],[\"faded orange\",\"red\"],[\"grape purple\",\"red\"],[\"hot green\",\"green\"],[\"lime yellow\",\"green\"],[\"mango\",\"red\"],[\"shamrock\",\"green\"],[\"bubblegum\",\"red\"],[\"purplish brown\",\"red\"],[\"vomit yellow\",\"red\"],[\"pale cyan\",\"green\"],[\"key lime\",\"green\"],[\"tomato red\",\"red\"],[\"lightgreen\",\"green\"],[\"merlot\",\"red\"],[\"night blue\",\"blue\"],[\"purpleish pink\",\"red\"],[\"apple\",\"green\"],[\"baby poop green\",\"green\"],[\"green apple\",\"green\"],[\"heliotrope\",\"blue\"],[\"yellow\\u002fgreen\",\"green\"],[\"almost black\",\"green\"],[\"cool blue\",\"blue\"],[\"leafy green\",\"green\"],[\"mustard brown\",\"red\"],[\"dusk\",\"blue\"],[\"dull brown\",\"red\"],[\"frog green\",\"green\"],[\"vivid green\",\"green\"],[\"bright light green\",\"green\"],[\"fluro green\",\"green\"],[\"kiwi\",\"green\"],[\"seaweed\",\"green\"],[\"navy green\",\"green\"],[\"ultramarine blue\",\"blue\"],[\"iris\",\"blue\"],[\"pastel orange\",\"red\"],[\"yellowish orange\",\"red\"],[\"perrywinkle\",\"blue\"],[\"tealish\",\"green\"],[\"dark plum\",\"red\"],[\"pear\",\"green\"],[\"pinkish orange\",\"red\"],[\"midnight purple\",\"blue\"],[\"light urple\",\"blue\"],[\"dark mint\",\"green\"],[\"greenish tan\",\"green\"],[\"light burgundy\",\"red\"],[\"turquoise blue\",\"blue\"],[\"ugly pink\",\"red\"],[\"sandy\",\"red\"],[\"electric pink\",\"red\"],[\"muted purple\",\"blue\"],[\"mid green\",\"green\"],[\"greyish\",\"red\"],[\"neon yellow\",\"green\"],[\"banana\",\"red\"],[\"carnation pink\",\"red\"],[\"tomato\",\"red\"],[\"sea\",\"green\"],[\"muddy brown\",\"red\"],[\"turquoise green\",\"green\"],[\"buff\",\"red\"],[\"fawn\",\"red\"],[\"muted blue\",\"blue\"],[\"pale rose\",\"red\"],[\"dark mint green\",\"green\"],[\"amethyst\",\"blue\"],[\"blue\\u002fgreen\",\"green\"],[\"chestnut\",\"red\"],[\"sick green\",\"green\"],[\"pea\",\"green\"],[\"rusty orange\",\"red\"],[\"stone\",\"red\"],[\"rose red\",\"red\"],[\"pale aqua\",\"green\"],[\"deep orange\",\"red\"],[\"earth\",\"red\"],[\"mossy green\",\"green\"],[\"grassy green\",\"green\"],[\"pale lime green\",\"green\"],[\"light grey blue\",\"blue\"],[\"pale grey\",\"blue\"],[\"asparagus\",\"green\"],[\"blueberry\",\"blue\"],[\"purple red\",\"red\"],[\"pale lime\",\"green\"],[\"greenish teal\",\"green\"],[\"caramel\",\"red\"],[\"deep magenta\",\"red\"],[\"light peach\",\"red\"],[\"milk chocolate\",\"red\"],[\"ocher\",\"red\"],[\"off green\",\"green\"],[\"purply pink\",\"red\"],[\"lightblue\",\"blue\"],[\"dusky blue\",\"blue\"],[\"golden\",\"red\"],[\"light beige\",\"red\"],[\"butter yellow\",\"red\"],[\"dusky purple\",\"red\"],[\"french blue\",\"blue\"],[\"ugly yellow\",\"red\"],[\"greeny yellow\",\"green\"],[\"orangish red\",\"red\"],[\"shamrock green\",\"green\"],[\"orangish brown\",\"red\"],[\"tree green\",\"green\"],[\"deep violet\",\"red\"],[\"gunmetal\",\"blue\"],[\"blue\\u002fpurple\",\"blue\"],[\"cherry\",\"red\"],[\"sandy brown\",\"red\"],[\"warm grey\",\"red\"],[\"dark indigo\",\"blue\"],[\"midnight\",\"blue\"],[\"bluey green\",\"green\"],[\"grey pink\",\"red\"],[\"soft purple\",\"blue\"],[\"blood\",\"red\"],[\"brown red\",\"red\"],[\"medium grey\",\"green\"],[\"berry\",\"red\"],[\"poo\",\"red\"],[\"purpley pink\",\"red\"],[\"light salmon\",\"red\"],[\"snot\",\"green\"],[\"easter purple\",\"blue\"],[\"light yellow green\",\"green\"],[\"dark navy blue\",\"blue\"],[\"drab\",\"green\"],[\"light rose\",\"red\"],[\"rouge\",\"red\"],[\"purplish red\",\"red\"],[\"slime green\",\"green\"],[\"baby poop\",\"red\"],[\"irish green\",\"green\"],[\"pink\\u002fpurple\",\"red\"],[\"dark navy\",\"blue\"],[\"greeny blue\",\"green\"],[\"light plum\",\"red\"],[\"pinkish grey\",\"red\"],[\"dirty orange\",\"red\"],[\"rust red\",\"red\"],[\"pale lilac\",\"blue\"],[\"orangey red\",\"red\"],[\"primary blue\",\"blue\"],[\"kermit green\",\"green\"],[\"brownish purple\",\"red\"],[\"murky green\",\"green\"],[\"wheat\",\"red\"],[\"very dark purple\",\"blue\"],[\"bottle green\",\"green\"],[\"watermelon\",\"red\"],[\"deep sky blue\",\"blue\"],[\"fire engine red\",\"red\"],[\"yellow ochre\",\"red\"],[\"pumpkin orange\",\"red\"],[\"pale olive\",\"green\"],[\"light lilac\",\"blue\"],[\"lightish green\",\"green\"],[\"carolina blue\",\"blue\"],[\"mulberry\",\"red\"],[\"shocking pink\",\"red\"],[\"auburn\",\"red\"],[\"bright lime green\",\"green\"],[\"celadon\",\"green\"],[\"pinkish brown\",\"red\"],[\"poo brown\",\"red\"],[\"bright sky blue\",\"blue\"],[\"celery\",\"green\"],[\"dirt brown\",\"red\"],[\"strawberry\",\"red\"],[\"dark lime\",\"green\"],[\"copper\",\"red\"],[\"medium brown\",\"red\"],[\"muted green\",\"green\"],[\"robin's egg\",\"blue\"],[\"bright aqua\",\"green\"],[\"bright lavender\",\"blue\"],[\"ivory\",\"red\"],[\"very light purple\",\"blue\"],[\"light navy\",\"blue\"],[\"pink red\",\"red\"],[\"olive brown\",\"red\"],[\"poop brown\",\"red\"],[\"mustard green\",\"green\"],[\"ocean green\",\"green\"],[\"very dark blue\",\"blue\"],[\"dusty green\",\"green\"],[\"light navy blue\",\"blue\"],[\"minty green\",\"green\"],[\"adobe\",\"red\"],[\"barney\",\"blue\"],[\"jade green\",\"green\"],[\"bright light blue\",\"blue\"],[\"light lime\",\"green\"],[\"dark khaki\",\"red\"],[\"orange yellow\",\"red\"],[\"ocre\",\"red\"],[\"maize\",\"red\"],[\"faded pink\",\"red\"],[\"british racing green\",\"green\"],[\"sandstone\",\"red\"],[\"mud brown\",\"red\"],[\"light sea green\",\"green\"],[\"robin egg blue\",\"blue\"],[\"aqua marine\",\"green\"],[\"dark sea green\",\"green\"],[\"soft pink\",\"red\"],[\"orangey brown\",\"red\"],[\"cherry red\",\"red\"],[\"burnt yellow\",\"red\"],[\"brownish grey\",\"red\"],[\"camel\",\"red\"],[\"purplish grey\",\"blue\"],[\"marine\",\"blue\"],[\"greyish pink\",\"red\"],[\"pale turquoise\",\"green\"],[\"pastel yellow\",\"red\"],[\"bluey purple\",\"blue\"],[\"canary yellow\",\"red\"],[\"faded red\",\"red\"],[\"sepia\",\"red\"],[\"coffee\",\"red\"],[\"bright magenta\",\"red\"],[\"mocha\",\"red\"],[\"ecru\",\"green\"],[\"purpleish\",\"red\"],[\"cranberry\",\"red\"],[\"darkish green\",\"green\"],[\"brown orange\",\"red\"],[\"dusky rose\",\"red\"],[\"melon\",\"red\"],[\"sickly green\",\"green\"],[\"silver\",\"green\"],[\"purply blue\",\"blue\"],[\"purpleish blue\",\"blue\"],[\"hospital green\",\"green\"],[\"shit brown\",\"red\"],[\"mid blue\",\"blue\"],[\"amber\",\"red\"],[\"easter green\",\"green\"],[\"soft blue\",\"blue\"],[\"cerulean blue\",\"blue\"],[\"golden brown\",\"red\"],[\"bright turquoise\",\"green\"],[\"red pink\",\"red\"],[\"red purple\",\"red\"],[\"greyish brown\",\"red\"],[\"vermillion\",\"red\"],[\"russet\",\"red\"],[\"steel grey\",\"blue\"],[\"lighter purple\",\"blue\"],[\"bright violet\",\"blue\"],[\"prussian blue\",\"blue\"],[\"slate green\",\"green\"],[\"dirty pink\",\"red\"],[\"dark blue green\",\"green\"],[\"pine\",\"green\"],[\"yellowy green\",\"green\"],[\"dark gold\",\"red\"],[\"bluish\",\"blue\"],[\"darkish blue\",\"blue\"],[\"dull red\",\"red\"],[\"pinky red\",\"red\"],[\"bronze\",\"red\"],[\"pale teal\",\"green\"],[\"military green\",\"green\"],[\"barbie pink\",\"red\"],[\"bubblegum pink\",\"red\"],[\"pea soup green\",\"green\"],[\"dark mustard\",\"red\"],[\"shit\",\"red\"],[\"medium purple\",\"blue\"],[\"very dark green\",\"green\"],[\"dirt\",\"red\"],[\"dusky pink\",\"red\"],[\"red violet\",\"red\"],[\"lemon yellow\",\"green\"],[\"pistachio\",\"green\"],[\"dull yellow\",\"red\"],[\"dark lime green\",\"green\"],[\"denim blue\",\"blue\"],[\"teal blue\",\"blue\"],[\"lightish blue\",\"blue\"],[\"purpley blue\",\"blue\"],[\"light indigo\",\"blue\"],[\"swamp green\",\"green\"],[\"brown green\",\"red\"],[\"dark maroon\",\"red\"],[\"hot purple\",\"blue\"],[\"dark forest green\",\"green\"],[\"faded blue\",\"blue\"],[\"drab green\",\"green\"],[\"light lime green\",\"green\"],[\"snot green\",\"green\"],[\"yellowish\",\"red\"],[\"light blue green\",\"green\"],[\"bordeaux\",\"red\"],[\"light mauve\",\"red\"],[\"ocean\",\"blue\"],[\"marigold\",\"red\"],[\"muddy green\",\"green\"],[\"dull orange\",\"red\"],[\"steel\",\"blue\"],[\"electric purple\",\"blue\"],[\"fluorescent green\",\"green\"],[\"yellowish brown\",\"red\"],[\"blush\",\"red\"],[\"soft green\",\"green\"],[\"bright orange\",\"red\"],[\"lemon\",\"green\"],[\"purple grey\",\"red\"],[\"acid green\",\"green\"],[\"pale lavender\",\"blue\"],[\"violet blue\",\"blue\"],[\"light forest green\",\"green\"],[\"burnt red\",\"red\"],[\"khaki green\",\"green\"],[\"cerise\",\"red\"],[\"faded purple\",\"blue\"],[\"apricot\",\"red\"],[\"dark olive green\",\"green\"],[\"grey brown\",\"red\"],[\"green grey\",\"green\"],[\"true blue\",\"blue\"],[\"pale violet\",\"blue\"],[\"periwinkle blue\",\"blue\"],[\"light sky blue\",\"blue\"],[\"blurple\",\"blue\"],[\"green brown\",\"red\"],[\"bluegreen\",\"green\"],[\"bright teal\",\"green\"],[\"brownish yellow\",\"red\"],[\"pea soup\",\"green\"],[\"forest\",\"green\"],[\"barney purple\",\"red\"],[\"ultramarine\",\"blue\"],[\"purplish\",\"red\"],[\"puke yellow\",\"red\"],[\"bluish grey\",\"blue\"],[\"dark periwinkle\",\"blue\"],[\"dark lilac\",\"blue\"],[\"reddish\",\"red\"],[\"light maroon\",\"red\"],[\"dusty purple\",\"blue\"],[\"terra cotta\",\"red\"],[\"avocado\",\"green\"],[\"marine blue\",\"blue\"],[\"teal green\",\"green\"],[\"slate grey\",\"blue\"],[\"lighter green\",\"green\"],[\"electric green\",\"green\"],[\"dusty blue\",\"blue\"],[\"golden yellow\",\"red\"],[\"bright yellow\",\"red\"],[\"light lavender\",\"blue\"],[\"umber\",\"red\"],[\"poop\",\"red\"],[\"dark peach\",\"red\"],[\"jungle green\",\"green\"],[\"eggshell\",\"red\"],[\"denim\",\"blue\"],[\"yellow brown\",\"red\"],[\"dull purple\",\"red\"],[\"chocolate brown\",\"red\"],[\"wine red\",\"red\"],[\"neon blue\",\"blue\"],[\"dirty green\",\"green\"],[\"light tan\",\"red\"],[\"ice blue\",\"green\"],[\"cadet blue\",\"blue\"],[\"dark mauve\",\"red\"],[\"very light blue\",\"green\"],[\"grey purple\",\"blue\"],[\"pastel pink\",\"red\"],[\"very light green\",\"green\"],[\"dark sky blue\",\"blue\"],[\"evergreen\",\"green\"],[\"dull pink\",\"red\"],[\"aubergine\",\"red\"],[\"mahogany\",\"red\"],[\"reddish orange\",\"red\"],[\"deep green\",\"green\"],[\"vomit green\",\"green\"],[\"purple pink\",\"red\"],[\"dusty pink\",\"red\"],[\"faded green\",\"green\"],[\"camo green\",\"green\"],[\"pinky purple\",\"red\"],[\"pink purple\",\"red\"],[\"brownish red\",\"red\"],[\"dark rose\",\"red\"],[\"mud\",\"red\"],[\"brownish\",\"red\"],[\"emerald green\",\"green\"],[\"pale brown\",\"red\"],[\"dull blue\",\"blue\"],[\"burnt umber\",\"red\"],[\"medium green\",\"green\"],[\"clay\",\"red\"],[\"light aqua\",\"green\"],[\"light olive green\",\"green\"],[\"brownish orange\",\"red\"],[\"dark aqua\",\"blue\"],[\"purplish pink\",\"red\"],[\"dark salmon\",\"red\"],[\"greenish grey\",\"green\"],[\"jade\",\"green\"],[\"ugly green\",\"green\"],[\"dark beige\",\"red\"],[\"emerald\",\"green\"],[\"pale red\",\"red\"],[\"light magenta\",\"red\"],[\"sky\",\"blue\"],[\"light cyan\",\"green\"],[\"yellow orange\",\"red\"],[\"reddish purple\",\"red\"],[\"reddish pink\",\"red\"],[\"orchid\",\"red\"],[\"dirty yellow\",\"red\"],[\"orange red\",\"red\"],[\"deep red\",\"red\"],[\"orange brown\",\"red\"],[\"cobalt blue\",\"blue\"],[\"neon pink\",\"red\"],[\"rose pink\",\"red\"],[\"greyish purple\",\"blue\"],[\"raspberry\",\"red\"],[\"aqua green\",\"green\"],[\"salmon pink\",\"red\"],[\"tangerine\",\"red\"],[\"brownish green\",\"green\"],[\"red brown\",\"red\"],[\"greenish brown\",\"red\"],[\"pumpkin\",\"red\"],[\"pine green\",\"green\"],[\"charcoal\",\"green\"],[\"baby pink\",\"red\"],[\"cornflower\",\"blue\"],[\"blue violet\",\"blue\"],[\"chocolate\",\"red\"],[\"greyish green\",\"green\"],[\"scarlet\",\"red\"],[\"green yellow\",\"green\"],[\"dark olive\",\"green\"],[\"sienna\",\"red\"],[\"pastel purple\",\"blue\"],[\"terracotta\",\"red\"],[\"aqua blue\",\"blue\"],[\"sage green\",\"green\"],[\"blood red\",\"red\"],[\"deep pink\",\"red\"],[\"grass\",\"green\"],[\"moss\",\"green\"],[\"pastel blue\",\"blue\"],[\"bluish green\",\"green\"],[\"green blue\",\"green\"],[\"dark tan\",\"red\"],[\"greenish blue\",\"green\"],[\"pale orange\",\"red\"],[\"vomit\",\"green\"],[\"forrest green\",\"green\"],[\"dark lavender\",\"blue\"],[\"dark violet\",\"blue\"],[\"purple blue\",\"blue\"],[\"dark cyan\",\"blue\"],[\"olive drab\",\"green\"],[\"pinkish\",\"red\"],[\"cobalt\",\"blue\"],[\"neon purple\",\"blue\"],[\"light turquoise\",\"green\"],[\"apple green\",\"green\"],[\"dull green\",\"green\"],[\"wine\",\"red\"],[\"powder blue\",\"blue\"],[\"off white\",\"red\"],[\"electric blue\",\"blue\"],[\"dark turquoise\",\"green\"],[\"blue purple\",\"blue\"],[\"azure\",\"blue\"],[\"bright red\",\"red\"],[\"pinkish red\",\"red\"],[\"cornflower blue\",\"blue\"],[\"light olive\",\"green\"],[\"grape\",\"red\"],[\"greyish blue\",\"blue\"],[\"purplish blue\",\"blue\"],[\"yellowish green\",\"green\"],[\"greenish yellow\",\"green\"],[\"medium blue\",\"blue\"],[\"dusty rose\",\"red\"],[\"light violet\",\"blue\"],[\"midnight blue\",\"blue\"],[\"bluish purple\",\"blue\"],[\"red orange\",\"red\"],[\"dark magenta\",\"red\"],[\"greenish\",\"green\"],[\"ocean blue\",\"blue\"],[\"coral\",\"red\"],[\"cream\",\"red\"],[\"reddish brown\",\"red\"],[\"burnt sienna\",\"red\"],[\"brick\",\"red\"],[\"sage\",\"green\"],[\"grey green\",\"green\"],[\"white\",\"red\"],[\"robin's egg blue\",\"blue\"],[\"moss green\",\"green\"],[\"steel blue\",\"blue\"],[\"eggplant\",\"red\"],[\"light yellow\",\"red\"],[\"leaf green\",\"green\"],[\"light grey\",\"green\"],[\"puke\",\"red\"],[\"pinkish purple\",\"blue\"],[\"sea blue\",\"blue\"],[\"pale purple\",\"blue\"],[\"slate blue\",\"blue\"],[\"blue grey\",\"blue\"],[\"hunter green\",\"green\"],[\"fuchsia\",\"red\"],[\"crimson\",\"red\"],[\"pale yellow\",\"red\"],[\"ochre\",\"red\"],[\"mustard yellow\",\"red\"],[\"light red\",\"red\"],[\"cerulean\",\"blue\"],[\"pale pink\",\"red\"],[\"deep blue\",\"blue\"],[\"rust\",\"red\"],[\"light teal\",\"green\"],[\"slate\",\"blue\"],[\"goldenrod\",\"red\"],[\"dark yellow\",\"red\"],[\"dark grey\",\"green\"],[\"army green\",\"green\"],[\"grey blue\",\"blue\"],[\"seafoam\",\"green\"],[\"puce\",\"red\"],[\"spring green\",\"green\"],[\"dark orange\",\"red\"],[\"sand\",\"red\"],[\"pastel green\",\"green\"],[\"mint\",\"green\"],[\"light orange\",\"red\"],[\"bright pink\",\"red\"],[\"chartreuse\",\"green\"],[\"deep purple\",\"blue\"],[\"dark brown\",\"red\"],[\"taupe\",\"red\"],[\"pea green\",\"green\"],[\"puke green\",\"green\"],[\"kelly green\",\"green\"],[\"seafoam green\",\"green\"],[\"blue green\",\"green\"],[\"khaki\",\"red\"],[\"burgundy\",\"red\"],[\"dark teal\",\"blue\"],[\"brick red\",\"red\"],[\"royal purple\",\"blue\"],[\"plum\",\"red\"],[\"mint green\",\"green\"],[\"gold\",\"red\"],[\"baby blue\",\"blue\"],[\"yellow green\",\"green\"],[\"bright purple\",\"blue\"],[\"dark red\",\"red\"],[\"pale blue\",\"green\"],[\"grass green\",\"green\"],[\"navy\",\"blue\"],[\"aquamarine\",\"green\"],[\"burnt orange\",\"red\"],[\"neon green\",\"green\"],[\"bright blue\",\"blue\"],[\"rose\",\"red\"],[\"light pink\",\"red\"],[\"mustard\",\"red\"],[\"indigo\",\"blue\"],[\"lime\",\"green\"],[\"sea green\",\"green\"],[\"periwinkle\",\"blue\"],[\"dark pink\",\"red\"],[\"olive green\",\"green\"],[\"peach\",\"red\"],[\"pale green\",\"green\"],[\"light brown\",\"red\"],[\"hot pink\",\"red\"],[\"black\",\"red\"],[\"lilac\",\"blue\"],[\"navy blue\",\"blue\"],[\"royal blue\",\"blue\"],[\"beige\",\"red\"],[\"salmon\",\"red\"],[\"olive\",\"green\"],[\"maroon\",\"red\"],[\"bright green\",\"green\"],[\"dark purple\",\"blue\"],[\"mauve\",\"red\"],[\"forest green\",\"green\"],[\"aqua\",\"green\"],[\"cyan\",\"green\"],[\"tan\",\"red\"],[\"dark blue\",\"blue\"],[\"lavender\",\"blue\"],[\"turquoise\",\"green\"],[\"dark green\",\"green\"],[\"violet\",\"blue\"],[\"light purple\",\"blue\"],[\"lime green\",\"green\"],[\"grey\",\"green\"],[\"sky blue\",\"blue\"],[\"yellow\",\"red\"],[\"magenta\",\"red\"],[\"light green\",\"green\"],[\"orange\",\"red\"],[\"teal\",\"green\"],[\"light blue\",\"blue\"],[\"red\",\"red\"],[\"brown\",\"red\"],[\"pink\",\"red\"],[\"blue\",\"blue\"],[\"green\",\"green\"],[\"purple\",\"blue\"]],\"hovertemplate\":\"red=%{x}\\u003cbr\\u003egreen=%{y}\\u003cbr\\u003eblue=%{z}\\u003cbr\\u003ecolor=%{customdata[0]}\\u003cbr\\u003egroup=%{customdata[1]}\\u003cextra\\u003e\\u003c\\u002fextra\\u003e\",\"legendgroup\":\"\",\"marker\":{\"color\":[\"blue\",\"green\",\"green\",\"blue\",\"red\",\"blue\",\"green\",\"red\",\"green\",\"green\",\"red\",\"green\",\"green\",\"green\",\"red\",\"red\",\"red\",\"green\",\"green\",\"green\",\"red\",\"red\",\"green\",\"blue\",\"green\",\"blue\",\"blue\",\"blue\",\"green\",\"green\",\"green\",\"blue\",\"green\",\"red\",\"red\",\"blue\",\"red\",\"green\",\"green\",\"red\",\"red\",\"blue\",\"red\",\"red\",\"red\",\"blue\",\"red\",\"green\",\"green\",\"green\",\"green\",\"red\",\"green\",\"red\",\"red\",\"red\",\"red\",\"red\",\"red\",\"blue\",\"blue\",\"red\",\"red\",\"red\",\"red\",\"green\",\"red\",\"blue\",\"blue\",\"red\",\"red\",\"green\",\"green\",\"red\",\"blue\",\"green\",\"green\",\"green\",\"green\",\"red\",\"red\",\"green\",\"blue\",\"red\",\"red\",\"red\",\"red\",\"blue\",\"green\",\"green\",\"green\",\"blue\",\"red\",\"red\",\"green\",\"green\",\"red\",\"blue\",\"red\",\"blue\",\"red\",\"red\",\"red\",\"green\",\"green\",\"red\",\"green\",\"blue\",\"green\",\"red\",\"green\",\"red\",\"red\",\"green\",\"green\",\"green\",\"green\",\"green\",\"green\",\"red\",\"blue\",\"blue\",\"green\",\"red\",\"red\",\"red\",\"red\",\"red\",\"blue\",\"blue\",\"red\",\"green\",\"green\",\"red\",\"green\",\"green\",\"blue\",\"green\",\"red\",\"red\",\"blue\",\"green\",\"red\",\"red\",\"red\",\"green\",\"red\",\"green\",\"blue\",\"blue\",\"red\",\"red\",\"green\",\"green\",\"blue\",\"red\",\"red\",\"green\",\"red\",\"green\",\"blue\",\"blue\",\"red\",\"blue\",\"red\",\"green\",\"green\",\"green\",\"blue\",\"red\",\"blue\",\"red\",\"green\",\"red\",\"blue\",\"red\",\"red\",\"red\",\"green\",\"red\",\"red\",\"red\",\"red\",\"blue\",\"green\",\"green\",\"red\",\"blue\",\"green\",\"green\",\"blue\",\"red\",\"green\",\"green\",\"blue\",\"green\",\"green\",\"green\",\"green\",\"red\",\"blue\",\"blue\",\"green\",\"green\",\"green\",\"red\",\"red\",\"green\",\"red\",\"blue\",\"red\",\"red\",\"red\",\"red\",\"red\",\"red\",\"green\",\"red\",\"blue\",\"green\",\"red\",\"red\",\"blue\",\"red\",\"green\",\"red\",\"red\",\"red\",\"green\",\"green\",\"red\",\"blue\",\"red\",\"blue\",\"red\",\"blue\",\"red\",\"blue\",\"red\",\"green\",\"green\",\"blue\",\"blue\",\"red\",\"red\",\"green\",\"green\",\"red\",\"green\",\"blue\",\"red\",\"blue\",\"red\",\"blue\",\"green\",\"green\",\"red\",\"red\",\"red\",\"red\",\"blue\",\"blue\",\"red\",\"red\",\"red\",\"red\",\"green\",\"red\",\"red\",\"blue\",\"green\",\"blue\",\"red\",\"red\",\"blue\",\"green\",\"red\",\"blue\",\"red\",\"blue\",\"green\",\"green\",\"green\",\"red\",\"green\",\"red\",\"blue\",\"red\",\"blue\",\"blue\",\"green\",\"red\",\"green\",\"red\",\"red\",\"blue\",\"green\",\"green\",\"blue\",\"red\",\"green\",\"blue\",\"green\",\"red\",\"red\",\"red\",\"red\",\"red\",\"green\",\"green\",\"green\",\"green\",\"green\",\"green\",\"green\",\"green\",\"green\",\"green\",\"red\",\"green\",\"blue\",\"blue\",\"red\",\"blue\",\"green\",\"blue\",\"green\",\"blue\",\"green\",\"red\",\"red\",\"green\",\"green\",\"red\",\"green\",\"red\",\"red\",\"red\",\"green\",\"green\",\"red\",\"green\",\"red\",\"blue\",\"red\",\"green\",\"green\",\"green\",\"blue\",\"green\",\"green\",\"blue\",\"green\",\"red\",\"blue\",\"red\",\"green\",\"green\",\"green\",\"green\",\"green\",\"green\",\"green\",\"blue\",\"blue\",\"red\",\"red\",\"blue\",\"green\",\"red\",\"green\",\"red\",\"blue\",\"blue\",\"green\",\"green\",\"red\",\"blue\",\"red\",\"red\",\"red\",\"blue\",\"green\",\"red\",\"green\",\"red\",\"red\",\"red\",\"green\",\"red\",\"green\",\"red\",\"red\",\"blue\",\"red\",\"green\",\"blue\",\"green\",\"red\",\"green\",\"green\",\"red\",\"red\",\"red\",\"green\",\"red\",\"red\",\"green\",\"green\",\"green\",\"blue\",\"blue\",\"green\",\"blue\",\"red\",\"green\",\"green\",\"red\",\"red\",\"red\",\"red\",\"red\",\"green\",\"red\",\"blue\",\"blue\",\"red\",\"red\",\"red\",\"red\",\"blue\",\"red\",\"green\",\"red\",\"green\",\"red\",\"green\",\"red\",\"blue\",\"blue\",\"red\",\"red\",\"red\",\"blue\",\"blue\",\"green\",\"red\",\"blue\",\"red\",\"red\",\"green\",\"red\",\"red\",\"red\",\"red\",\"green\",\"blue\",\"green\",\"blue\",\"green\",\"red\",\"red\",\"red\",\"green\",\"red\",\"green\",\"red\",\"blue\",\"green\",\"red\",\"red\",\"red\",\"red\",\"blue\",\"red\",\"blue\",\"green\",\"red\",\"green\",\"red\",\"blue\",\"green\",\"red\",\"blue\",\"red\",\"red\",\"red\",\"green\",\"blue\",\"green\",\"blue\",\"red\",\"red\",\"red\",\"green\",\"green\",\"red\",\"red\",\"blue\",\"green\",\"red\",\"red\",\"green\",\"red\",\"red\",\"green\",\"blue\",\"green\",\"blue\",\"red\",\"blue\",\"blue\",\"red\",\"red\",\"red\",\"green\",\"green\",\"blue\",\"green\",\"blue\",\"green\",\"red\",\"blue\",\"green\",\"blue\",\"green\",\"red\",\"red\",\"red\",\"red\",\"red\",\"green\",\"red\",\"red\",\"green\",\"blue\",\"green\",\"green\",\"red\",\"red\",\"red\",\"red\",\"red\",\"red\",\"blue\",\"blue\",\"red\",\"green\",\"red\",\"blue\",\"red\",\"red\",\"red\",\"red\",\"red\",\"red\",\"green\",\"red\",\"red\",\"green\",\"red\",\"red\",\"red\",\"green\",\"green\",\"blue\",\"blue\",\"green\",\"red\",\"blue\",\"red\",\"green\",\"blue\",\"blue\",\"red\",\"green\",\"red\",\"red\",\"red\",\"red\",\"red\",\"blue\",\"blue\",\"blue\",\"blue\",\"green\",\"red\",\"green\",\"green\",\"green\",\"red\",\"blue\",\"blue\",\"red\",\"red\",\"red\",\"green\",\"green\",\"red\",\"red\",\"green\",\"red\",\"red\",\"blue\",\"green\",\"red\",\"red\",\"red\",\"green\",\"green\",\"red\",\"green\",\"blue\",\"blue\",\"blue\",\"blue\",\"blue\",\"green\",\"red\",\"red\",\"blue\",\"green\",\"blue\",\"green\",\"green\",\"green\",\"red\",\"green\",\"red\",\"red\",\"blue\",\"red\",\"green\",\"red\",\"blue\",\"blue\",\"green\",\"red\",\"red\",\"green\",\"red\",\"green\",\"red\",\"green\",\"blue\",\"blue\",\"green\",\"red\",\"green\",\"red\",\"blue\",\"red\",\"green\",\"red\",\"green\",\"blue\",\"blue\",\"blue\",\"blue\",\"blue\",\"red\",\"green\",\"green\",\"red\",\"green\",\"green\",\"red\",\"blue\",\"red\",\"red\",\"blue\",\"blue\",\"blue\",\"red\",\"red\",\"blue\",\"red\",\"green\",\"blue\",\"green\",\"blue\",\"green\",\"green\",\"blue\",\"red\",\"red\",\"blue\",\"red\",\"red\",\"red\",\"green\",\"red\",\"blue\",\"red\",\"red\",\"red\",\"red\",\"blue\",\"green\",\"red\",\"green\",\"blue\",\"red\",\"green\",\"blue\",\"red\",\"green\",\"blue\",\"green\",\"red\",\"red\",\"red\",\"red\",\"green\",\"green\",\"red\",\"red\",\"green\",\"green\",\"red\",\"red\",\"red\",\"red\",\"red\",\"red\",\"green\",\"red\",\"blue\",\"red\",\"green\",\"red\",\"green\",\"green\",\"red\",\"blue\",\"red\",\"red\",\"green\",\"green\",\"green\",\"red\",\"green\",\"red\",\"red\",\"blue\",\"green\",\"red\",\"red\",\"red\",\"red\",\"red\",\"red\",\"red\",\"red\",\"blue\",\"red\",\"red\",\"blue\",\"red\",\"green\",\"red\",\"red\",\"green\",\"red\",\"red\",\"red\",\"green\",\"green\",\"red\",\"blue\",\"blue\",\"red\",\"green\",\"red\",\"green\",\"green\",\"red\",\"blue\",\"red\",\"blue\",\"green\",\"red\",\"red\",\"green\",\"green\",\"blue\",\"green\",\"green\",\"red\",\"green\",\"red\",\"green\",\"green\",\"blue\",\"blue\",\"blue\",\"blue\",\"green\",\"red\",\"blue\",\"blue\",\"green\",\"green\",\"green\",\"red\",\"blue\",\"red\",\"blue\",\"green\",\"blue\",\"blue\",\"red\",\"red\",\"blue\",\"green\",\"red\",\"blue\",\"blue\",\"green\",\"green\",\"blue\",\"red\",\"blue\",\"blue\",\"blue\",\"red\",\"red\",\"green\",\"blue\",\"red\",\"red\",\"red\",\"red\",\"red\",\"green\",\"green\",\"red\",\"blue\",\"green\",\"blue\",\"red\",\"red\",\"green\",\"green\",\"red\",\"blue\",\"blue\",\"blue\",\"blue\",\"blue\",\"green\",\"red\",\"red\",\"red\",\"red\",\"red\",\"red\",\"blue\",\"red\",\"blue\",\"red\",\"green\",\"blue\",\"red\",\"red\",\"green\",\"green\",\"blue\",\"green\",\"red\",\"green\",\"red\",\"red\",\"green\",\"green\",\"red\",\"red\",\"green\",\"blue\",\"red\",\"red\",\"green\",\"green\",\"green\",\"green\",\"green\",\"red\",\"red\",\"blue\",\"red\",\"blue\",\"red\",\"green\",\"red\",\"blue\",\"green\",\"blue\",\"red\",\"green\",\"green\",\"blue\",\"green\",\"red\",\"green\",\"blue\",\"red\",\"red\",\"red\",\"blue\",\"green\",\"green\",\"blue\",\"red\",\"green\",\"red\",\"green\",\"red\",\"red\",\"red\",\"blue\",\"blue\",\"blue\",\"red\",\"red\",\"green\",\"red\",\"green\",\"blue\",\"red\",\"green\",\"green\",\"green\",\"red\",\"blue\",\"blue\",\"green\",\"green\",\"blue\",\"blue\",\"green\",\"green\",\"blue\",\"red\",\"red\",\"green\",\"red\",\"green\",\"blue\",\"red\",\"red\",\"red\",\"blue\",\"green\",\"blue\"],\"symbol\":\"circle\"},\"mode\":\"markers\",\"name\":\"\",\"scene\":\"scene\",\"showlegend\":false,\"x\":[1,8,22,95,196,172,86,178,168,105,137,112,212,101,149,252,165,56,76,94,239,217,10,12,97,55,34,83,155,5,31,1,12,255,175,8,221,166,167,194,231,150,204,172,148,152,255,178,99,142,183,255,189,211,255,67,255,153,173,196,80,125,255,218,65,201,255,86,107,111,126,0,208,255,29,5,181,143,200,253,255,169,104,253,199,255,133,239,64,182,157,60,242,172,196,44,154,202,135,58,253,139,203,105,12,183,127,38,99,200,177,255,246,118,83,78,160,123,188,202,16,33,113,253,254,252,29,203,49,36,255,144,134,253,120,19,251,32,255,157,58,194,215,114,255,1,172,1,153,2,142,209,150,253,149,127,117,8,255,89,33,60,186,2,115,35,143,230,75,217,1,157,114,255,78,249,255,199,214,254,253,252,178,31,105,86,251,62,160,214,79,255,92,84,137,126,27,202,182,167,21,141,95,99,96,252,140,117,171,3,254,213,254,104,254,254,111,202,27,0,219,221,65,207,33,169,110,254,75,77,190,3,168,93,254,78,150,133,255,195,42,0,12,255,240,241,177,252,113,183,75,165,175,139,154,166,255,117,193,254,2,10,165,174,253,191,62,199,185,100,191,215,178,103,168,250,192,14,141,173,140,148,196,253,51,255,117,245,119,135,136,194,1,159,247,189,117,156,41,105,173,193,53,255,164,243,148,255,30,181,254,207,10,135,30,123,188,187,171,31,0,164,196,63,84,201,58,1,135,240,93,37,208,255,1,255,107,199,183,174,236,118,115,4,223,110,143,94,217,200,7,73,81,172,78,135,88,47,45,10,156,24,53,24,98,255,255,143,36,63,203,255,40,179,72,188,168,6,205,241,255,128,80,168,207,255,255,239,60,136,4,254,207,59,253,32,155,15,116,157,164,205,173,190,184,220,162,99,65,177,157,253,119,70,153,190,50,175,160,255,127,191,107,240,123,71,245,255,255,137,67,208,198,244,2,178,42,73,83,90,207,196,151,31,3,43,195,166,119,146,125,153,143,200,254,172,192,204,0,130,255,171,176,153,147,1,239,0,66,157,200,200,170,228,250,8,92,118,108,251,42,4,253,13,254,203,251,185,237,97,138,146,254,154,101,190,177,136,2,193,131,251,132,182,127,95,109,11,199,255,246,21,245,100,122,168,61,0,118,46,11,189,172,43,38,174,155,255,198,244,222,5,201,96,152,138,46,17,253,177,247,213,134,198,122,4,200,165,255,98,255,211,152,166,255,157,254,152,158,40,185,186,255,148,197,102,97,155,123,39,254,140,100,5,178,15,250,130,122,244,161,111,165,173,0,101,202,0,43,191,181,41,1,187,252,168,130,102,254,254,148,168,127,158,6,138,204,158,253,192,238,126,59,1,61,95,109,116,112,60,203,0,101,116,185,157,250,126,123,194,1,252,101,216,115,170,8,155,242,111,255,253,134,143,238,81,79,159,114,222,145,255,60,127,119,1,206,143,198,85,84,1,1,201,146,11,160,32,148,194,116,102,156,196,162,130,201,144,1,37,89,117,33,90,254,255,223,178,127,222,4,255,59,183,132,65,123,4,102,251,215,78,135,213,130,255,209,68,5,213,61,74,248,2,137,224,213,123,82,201,219,158,181,115,156,2,177,73,160,57,182,140,164,203,5,206,200,150,31,122,172,1,217,250,130,172,252,145,254,200,205,253,154,190,3,254,247,136,176,18,254,255,106,139,105,225,10,52,255,106,93,61,130,190,201,55,169,202,202,2,136,152,203,92,118,162,16,6,175,11,255,162,21,133,52,99,10,111,212,30,188,126,118,116,128,177,255,6,4,87,6,255,241,81,172,108,94,96,176,205,44,192,214,2,112,253,150,64,3,252,255,127,176,160,135,120,255,152,101,90,56,255,92,216,165,214,4,183,91,96,11,237,140,255,191,210,255,4,255,4,168,144,81,250,213,54,75,107,128,165,169,198,226,176,159,253,254,193,54,52,185,142,154,2,122,19,170,97,1,143,75,88,143,219,162,192,190,132,208,63,1,4,192,12,1,207,255,206,56,170,83,142,203,103,255,199,173,255,0,206,0,5,230,255,110,101,1,53,174,6,19,0,209,0,199,6,3,154,191,137,146,117,255,194,150,249,2,149,229,101,255,3,21,126],\"y\":[18,120,212,27,56,194,174,153,255,216,69,178,255,171,46,252,163,128,144,155,180,155,95,6,222,120,66,60,181,255,99,115,181,7,168,120,133,200,255,183,142,110,173,134,126,63,99,251,179,229,225,111,248,182,252,5,178,117,144,142,123,113,253,70,2,209,250,132,124,108,64,147,228,249,93,73,206,182,255,222,223,190,50,177,172,243,14,192,253,196,255,65,171,79,254,250,98,155,95,46,141,49,165,131,220,82,143,83,169,127,252,154,104,253,254,253,254,242,245,107,122,56,159,185,252,246,2,104,102,122,255,253,161,220,209,187,95,249,227,7,24,255,103,0,218,192,116,70,0,6,118,118,180,255,163,104,25,148,97,133,71,115,158,27,74,196,174,242,87,1,84,2,143,229,5,188,7,121,255,75,89,225,113,59,157,252,85,130,191,255,115,177,139,172,160,160,252,255,255,94,46,94,158,247,102,134,0,128,126,7,134,23,208,0,223,66,124,1,36,251,88,214,253,82,195,3,16,130,97,164,174,57,143,33,178,81,78,163,105,251,254,95,23,255,131,243,210,130,170,201,1,82,47,136,247,251,197,8,74,47,3,67,0,139,121,172,175,71,72,125,254,37,151,58,125,254,2,135,132,3,255,172,255,238,184,249,141,4,161,86,151,126,115,131,213,246,184,187,70,96,248,198,173,253,66,97,119,244,145,195,255,253,221,253,248,253,236,249,144,181,85,132,85,130,141,94,229,103,169,148,20,255,254,166,180,108,66,193,255,255,45,255,0,3,78,203,152,220,79,253,13,132,183,126,84,110,188,239,254,255,239,209,83,5,88,150,171,140,188,1,248,114,1,111,192,203,65,177,117,218,4,91,167,164,255,255,127,64,153,104,244,246,175,113,193,192,95,155,40,185,191,89,165,1,255,77,101,139,156,255,188,253,171,65,1,253,191,111,2,216,78,155,163,117,200,95,191,254,253,91,107,193,248,54,193,95,126,6,98,6,2,166,138,9,1,177,144,111,0,43,127,15,115,60,169,187,113,253,2,131,197,18,5,204,124,149,29,4,179,87,172,118,39,203,66,4,178,66,122,221,1,74,70,117,0,157,125,204,200,225,184,10,2,48,254,253,114,95,204,253,101,41,183,99,81,160,237,249,96,255,206,80,5,84,89,181,153,1,169,90,247,108,29,175,247,253,143,173,156,208,157,72,174,70,246,241,232,135,176,96,2,171,119,159,104,46,141,251,254,65,254,73,94,129,8,118,255,86,0,124,105,104,120,178,201,26,64,229,88,106,179,253,136,110,122,254,42,7,106,50,57,130,90,10,69,141,123,82,93,241,148,118,65,63,38,121,203,124,70,131,166,137,95,67,46,110,122,1,255,250,220,189,91,136,122,52,90,133,108,0,0,45,140,149,255,193,238,251,0,146,123,192,116,134,133,35,255,122,158,194,91,255,111,254,207,10,145,35,134,12,110,177,77,112,146,15,174,153,252,57,78,122,249,176,153,85,4,0,86,190,139,95,109,66,72,95,100,177,56,163,101,253,252,134,198,253,197,100,94,126,130,255,99,148,89,25,3,217,126,238,255,116,76,255,109,186,255,142,71,134,7,1,72,89,162,63,138,178,101,76,75,54,72,92,109,143,145,117,69,173,106,255,190,119,105,93,90,174,167,151,147,160,84,95,202,255,176,9,44,117,197,65,2,100,10,1,135,113,1,225,123,148,110,46,97,119,72,56,183,121,6,28,166,1,255,62,86,160,102,216,179,0,1,172,153,191,166,180,136,139,167,164,68,103,1,45,136,118,106,72,19,244,205,166,1,209,255,82,92,41,154,0,12,112,191,52,129,30,221,253,111,115,180,0,59,60,0,163,113,90,255,43,78,54,174,155,255,239,139,125,8,254,169,220,165,72,116,144,124,124,64,13,0,255,144,189,71,133,207,2,60,228,101,194,182,55,93,139,249,126,249,81,202,255,254,170,1,248,1,28,162,171,174,171,249,126,166,0,77,20,0,15,255,180,207,251,3,0,254,155,21,216,78,255,101,98,209,179,2,255,252,130,65,122,176,253,129,2,0,162,17,4,218,121,117,0,255,6,113,71,234,255,178,3,159,194,53,14,119,254,149,187,255,0,249,115,147,208,0,55,129,67,176,30],\"z\":[136,4,63,107,127,217,87,110,4,79,133,63,255,124,143,129,145,4,133,138,53,130,56,247,42,191,199,198,60,166,87,116,119,137,139,127,215,117,181,9,165,189,96,168,148,178,233,165,101,63,161,82,163,131,196,65,208,112,13,253,156,3,120,125,0,121,134,174,133,10,113,55,41,23,236,7,8,123,176,108,34,112,227,71,125,154,4,254,20,6,0,66,21,6,130,31,0,247,66,254,73,3,96,57,115,3,78,141,80,137,153,138,142,168,92,84,191,218,166,2,176,171,145,21,175,121,0,67,138,253,182,169,125,92,182,175,252,134,110,89,177,137,173,88,3,141,52,0,250,111,24,143,3,99,166,78,115,4,99,86,97,168,136,249,101,139,34,162,219,102,130,22,2,173,80,8,58,134,254,3,86,102,61,77,76,162,129,252,22,250,142,154,21,104,176,122,6,251,187,9,255,183,143,180,2,170,52,0,76,100,164,78,252,24,8,15,0,71,49,176,86,24,254,78,111,8,5,140,19,9,138,248,89,208,9,139,2,178,175,244,183,106,147,129,58,63,123,74,52,226,1,230,13,248,100,178,18,81,9,74,226,122,85,12,143,5,118,103,78,142,40,222,5,63,194,75,47,204,104,222,158,2,247,115,100,208,163,201,181,228,23,121,113,3,96,254,79,4,91,6,2,252,107,55,160,150,6,242,103,6,127,188,8,5,118,199,172,15,4,122,90,172,8,157,68,251,127,149,34,77,81,41,29,43,76,181,71,12,250,110,1,123,57,72,200,60,5,31,245,61,13,184,59,4,129,75,8,16,84,2,67,123,10,219,196,79,15,231,168,44,95,76,55,246,114,122,91,196,132,122,144,135,71,149,4,126,167,38,146,6,137,158,123,159,197,115,192,142,2,44,32,9,135,60,235,1,62,39,3,101,212,254,86,150,71,115,132,9,92,177,30,12,83,230,246,148,3,182,116,123,173,1,8,5,77,3,25,72,103,239,52,97,132,84,45,121,155,181,1,5,124,75,3,185,147,13,254,127,46,68,203,57,75,4,0,41,231,53,149,131,169,6,4,255,36,249,0,78,14,126,52,5,89,248,2,6,7,129,255,96,254,78,162,1,8,183,97,1,254,149,57,67,1,37,18,82,253,234,255,203,252,132,79,3,1,4,115,51,115,136,125,72,184,106,253,108,85,1,4,84,172,13,116,15,176,254,187,93,192,2,42,9,95,89,127,96,148,213,113,199,64,78,43,76,232,81,202,141,58,55,2,115,85,28,199,238,239,170,4,179,8,126,234,238,1,249,85,71,79,12,5,138,244,253,119,109,128,73,52,40,16,187,130,63,71,0,178,62,165,204,23,5,0,162,3,69,139,104,56,139,91,1,146,159,253,231,207,0,17,8,245,4,187,81,102,0,102,179,44,161,146,6,50,59,149,255,8,1,142,118,0,82,133,9,254,201,83,5,57,98,153,109,3,83,111,204,250,251,255,204,3,121,198,3,1,9,152,177,140,14,151,209,165,64,87,135,59,52,106,111,109,99,13,173,21,1,254,0,0,93,67,212,140,0,126,0,35,255,44,172,254,150,98,255,140,205,189,228,42,157,52,0,28,15,3,216,148,116,37,190,218,35,93,18,87,30,110,156,14,72,80,219,92,35,107,174,83,141,116,3,98,73,77,247,252,252,1,81,84,196,10,30,0,0,167,154,154,145,73,147,124,8,9,22,18,1,30,55,206,247,233,2,125,25,39,2,30,255,65,233,120,2,98,45,88,254,116,139,74,135,86,21,6,152,63,233,138,50,126,143,254,204,38,98,63,252,228,255,90,206,243,13,69,215,105,97,157,249,22,2,187,122,252,53,231,6,86,104,156,80,194,10,15,35,115,115,255,249,56,154,53,122,4,214,2,215,149,212,153,142,8,217,15,132,5,10,76,209,220,115,9,193,114,5,10,55,22,164,173,82,113,2,118,157,176,72,177,10,63,2,129,18,7,46,171,109,98,35,78,2,110,65,159,12,254,45,253,0,254,11,62,178,1,12,252,117,223,1,130,50,161,254,107,4,124,181,80,141,0,253,70,170,166,108,14,33,7,62,129,12,201,255,111,91,239,172,0,234,246,5,145,253,20,120,123,6,134,252,0,0,192,223,26,156],\"type\":\"scatter3d\"}],                        {\"template\":{\"data\":{\"histogram2dcontour\":[{\"type\":\"histogram2dcontour\",\"colorbar\":{\"outlinewidth\":0,\"ticks\":\"\"},\"colorscale\":[[0.0,\"#0d0887\"],[0.1111111111111111,\"#46039f\"],[0.2222222222222222,\"#7201a8\"],[0.3333333333333333,\"#9c179e\"],[0.4444444444444444,\"#bd3786\"],[0.5555555555555556,\"#d8576b\"],[0.6666666666666666,\"#ed7953\"],[0.7777777777777778,\"#fb9f3a\"],[0.8888888888888888,\"#fdca26\"],[1.0,\"#f0f921\"]]}],\"choropleth\":[{\"type\":\"choropleth\",\"colorbar\":{\"outlinewidth\":0,\"ticks\":\"\"}}],\"histogram2d\":[{\"type\":\"histogram2d\",\"colorbar\":{\"outlinewidth\":0,\"ticks\":\"\"},\"colorscale\":[[0.0,\"#0d0887\"],[0.1111111111111111,\"#46039f\"],[0.2222222222222222,\"#7201a8\"],[0.3333333333333333,\"#9c179e\"],[0.4444444444444444,\"#bd3786\"],[0.5555555555555556,\"#d8576b\"],[0.6666666666666666,\"#ed7953\"],[0.7777777777777778,\"#fb9f3a\"],[0.8888888888888888,\"#fdca26\"],[1.0,\"#f0f921\"]]}],\"heatmap\":[{\"type\":\"heatmap\",\"colorbar\":{\"outlinewidth\":0,\"ticks\":\"\"},\"colorscale\":[[0.0,\"#0d0887\"],[0.1111111111111111,\"#46039f\"],[0.2222222222222222,\"#7201a8\"],[0.3333333333333333,\"#9c179e\"],[0.4444444444444444,\"#bd3786\"],[0.5555555555555556,\"#d8576b\"],[0.6666666666666666,\"#ed7953\"],[0.7777777777777778,\"#fb9f3a\"],[0.8888888888888888,\"#fdca26\"],[1.0,\"#f0f921\"]]}],\"heatmapgl\":[{\"type\":\"heatmapgl\",\"colorbar\":{\"outlinewidth\":0,\"ticks\":\"\"},\"colorscale\":[[0.0,\"#0d0887\"],[0.1111111111111111,\"#46039f\"],[0.2222222222222222,\"#7201a8\"],[0.3333333333333333,\"#9c179e\"],[0.4444444444444444,\"#bd3786\"],[0.5555555555555556,\"#d8576b\"],[0.6666666666666666,\"#ed7953\"],[0.7777777777777778,\"#fb9f3a\"],[0.8888888888888888,\"#fdca26\"],[1.0,\"#f0f921\"]]}],\"contourcarpet\":[{\"type\":\"contourcarpet\",\"colorbar\":{\"outlinewidth\":0,\"ticks\":\"\"}}],\"contour\":[{\"type\":\"contour\",\"colorbar\":{\"outlinewidth\":0,\"ticks\":\"\"},\"colorscale\":[[0.0,\"#0d0887\"],[0.1111111111111111,\"#46039f\"],[0.2222222222222222,\"#7201a8\"],[0.3333333333333333,\"#9c179e\"],[0.4444444444444444,\"#bd3786\"],[0.5555555555555556,\"#d8576b\"],[0.6666666666666666,\"#ed7953\"],[0.7777777777777778,\"#fb9f3a\"],[0.8888888888888888,\"#fdca26\"],[1.0,\"#f0f921\"]]}],\"surface\":[{\"type\":\"surface\",\"colorbar\":{\"outlinewidth\":0,\"ticks\":\"\"},\"colorscale\":[[0.0,\"#0d0887\"],[0.1111111111111111,\"#46039f\"],[0.2222222222222222,\"#7201a8\"],[0.3333333333333333,\"#9c179e\"],[0.4444444444444444,\"#bd3786\"],[0.5555555555555556,\"#d8576b\"],[0.6666666666666666,\"#ed7953\"],[0.7777777777777778,\"#fb9f3a\"],[0.8888888888888888,\"#fdca26\"],[1.0,\"#f0f921\"]]}],\"mesh3d\":[{\"type\":\"mesh3d\",\"colorbar\":{\"outlinewidth\":0,\"ticks\":\"\"}}],\"scatter\":[{\"fillpattern\":{\"fillmode\":\"overlay\",\"size\":10,\"solidity\":0.2},\"type\":\"scatter\"}],\"parcoords\":[{\"type\":\"parcoords\",\"line\":{\"colorbar\":{\"outlinewidth\":0,\"ticks\":\"\"}}}],\"scatterpolargl\":[{\"type\":\"scatterpolargl\",\"marker\":{\"colorbar\":{\"outlinewidth\":0,\"ticks\":\"\"}}}],\"bar\":[{\"error_x\":{\"color\":\"#2a3f5f\"},\"error_y\":{\"color\":\"#2a3f5f\"},\"marker\":{\"line\":{\"color\":\"#E5ECF6\",\"width\":0.5},\"pattern\":{\"fillmode\":\"overlay\",\"size\":10,\"solidity\":0.2}},\"type\":\"bar\"}],\"scattergeo\":[{\"type\":\"scattergeo\",\"marker\":{\"colorbar\":{\"outlinewidth\":0,\"ticks\":\"\"}}}],\"scatterpolar\":[{\"type\":\"scatterpolar\",\"marker\":{\"colorbar\":{\"outlinewidth\":0,\"ticks\":\"\"}}}],\"histogram\":[{\"marker\":{\"pattern\":{\"fillmode\":\"overlay\",\"size\":10,\"solidity\":0.2}},\"type\":\"histogram\"}],\"scattergl\":[{\"type\":\"scattergl\",\"marker\":{\"colorbar\":{\"outlinewidth\":0,\"ticks\":\"\"}}}],\"scatter3d\":[{\"type\":\"scatter3d\",\"line\":{\"colorbar\":{\"outlinewidth\":0,\"ticks\":\"\"}},\"marker\":{\"colorbar\":{\"outlinewidth\":0,\"ticks\":\"\"}}}],\"scattermapbox\":[{\"type\":\"scattermapbox\",\"marker\":{\"colorbar\":{\"outlinewidth\":0,\"ticks\":\"\"}}}],\"scatterternary\":[{\"type\":\"scatterternary\",\"marker\":{\"colorbar\":{\"outlinewidth\":0,\"ticks\":\"\"}}}],\"scattercarpet\":[{\"type\":\"scattercarpet\",\"marker\":{\"colorbar\":{\"outlinewidth\":0,\"ticks\":\"\"}}}],\"carpet\":[{\"aaxis\":{\"endlinecolor\":\"#2a3f5f\",\"gridcolor\":\"white\",\"linecolor\":\"white\",\"minorgridcolor\":\"white\",\"startlinecolor\":\"#2a3f5f\"},\"baxis\":{\"endlinecolor\":\"#2a3f5f\",\"gridcolor\":\"white\",\"linecolor\":\"white\",\"minorgridcolor\":\"white\",\"startlinecolor\":\"#2a3f5f\"},\"type\":\"carpet\"}],\"table\":[{\"cells\":{\"fill\":{\"color\":\"#EBF0F8\"},\"line\":{\"color\":\"white\"}},\"header\":{\"fill\":{\"color\":\"#C8D4E3\"},\"line\":{\"color\":\"white\"}},\"type\":\"table\"}],\"barpolar\":[{\"marker\":{\"line\":{\"color\":\"#E5ECF6\",\"width\":0.5},\"pattern\":{\"fillmode\":\"overlay\",\"size\":10,\"solidity\":0.2}},\"type\":\"barpolar\"}],\"pie\":[{\"automargin\":true,\"type\":\"pie\"}]},\"layout\":{\"autotypenumbers\":\"strict\",\"colorway\":[\"#636efa\",\"#EF553B\",\"#00cc96\",\"#ab63fa\",\"#FFA15A\",\"#19d3f3\",\"#FF6692\",\"#B6E880\",\"#FF97FF\",\"#FECB52\"],\"font\":{\"color\":\"#2a3f5f\"},\"hovermode\":\"closest\",\"hoverlabel\":{\"align\":\"left\"},\"paper_bgcolor\":\"white\",\"plot_bgcolor\":\"#E5ECF6\",\"polar\":{\"bgcolor\":\"#E5ECF6\",\"angularaxis\":{\"gridcolor\":\"white\",\"linecolor\":\"white\",\"ticks\":\"\"},\"radialaxis\":{\"gridcolor\":\"white\",\"linecolor\":\"white\",\"ticks\":\"\"}},\"ternary\":{\"bgcolor\":\"#E5ECF6\",\"aaxis\":{\"gridcolor\":\"white\",\"linecolor\":\"white\",\"ticks\":\"\"},\"baxis\":{\"gridcolor\":\"white\",\"linecolor\":\"white\",\"ticks\":\"\"},\"caxis\":{\"gridcolor\":\"white\",\"linecolor\":\"white\",\"ticks\":\"\"}},\"coloraxis\":{\"colorbar\":{\"outlinewidth\":0,\"ticks\":\"\"}},\"colorscale\":{\"sequential\":[[0.0,\"#0d0887\"],[0.1111111111111111,\"#46039f\"],[0.2222222222222222,\"#7201a8\"],[0.3333333333333333,\"#9c179e\"],[0.4444444444444444,\"#bd3786\"],[0.5555555555555556,\"#d8576b\"],[0.6666666666666666,\"#ed7953\"],[0.7777777777777778,\"#fb9f3a\"],[0.8888888888888888,\"#fdca26\"],[1.0,\"#f0f921\"]],\"sequentialminus\":[[0.0,\"#0d0887\"],[0.1111111111111111,\"#46039f\"],[0.2222222222222222,\"#7201a8\"],[0.3333333333333333,\"#9c179e\"],[0.4444444444444444,\"#bd3786\"],[0.5555555555555556,\"#d8576b\"],[0.6666666666666666,\"#ed7953\"],[0.7777777777777778,\"#fb9f3a\"],[0.8888888888888888,\"#fdca26\"],[1.0,\"#f0f921\"]],\"diverging\":[[0,\"#8e0152\"],[0.1,\"#c51b7d\"],[0.2,\"#de77ae\"],[0.3,\"#f1b6da\"],[0.4,\"#fde0ef\"],[0.5,\"#f7f7f7\"],[0.6,\"#e6f5d0\"],[0.7,\"#b8e186\"],[0.8,\"#7fbc41\"],[0.9,\"#4d9221\"],[1,\"#276419\"]]},\"xaxis\":{\"gridcolor\":\"white\",\"linecolor\":\"white\",\"ticks\":\"\",\"title\":{\"standoff\":15},\"zerolinecolor\":\"white\",\"automargin\":true,\"zerolinewidth\":2},\"yaxis\":{\"gridcolor\":\"white\",\"linecolor\":\"white\",\"ticks\":\"\",\"title\":{\"standoff\":15},\"zerolinecolor\":\"white\",\"automargin\":true,\"zerolinewidth\":2},\"scene\":{\"xaxis\":{\"backgroundcolor\":\"#E5ECF6\",\"gridcolor\":\"white\",\"linecolor\":\"white\",\"showbackground\":true,\"ticks\":\"\",\"zerolinecolor\":\"white\",\"gridwidth\":2},\"yaxis\":{\"backgroundcolor\":\"#E5ECF6\",\"gridcolor\":\"white\",\"linecolor\":\"white\",\"showbackground\":true,\"ticks\":\"\",\"zerolinecolor\":\"white\",\"gridwidth\":2},\"zaxis\":{\"backgroundcolor\":\"#E5ECF6\",\"gridcolor\":\"white\",\"linecolor\":\"white\",\"showbackground\":true,\"ticks\":\"\",\"zerolinecolor\":\"white\",\"gridwidth\":2}},\"shapedefaults\":{\"line\":{\"color\":\"#2a3f5f\"}},\"annotationdefaults\":{\"arrowcolor\":\"#2a3f5f\",\"arrowhead\":0,\"arrowwidth\":1},\"geo\":{\"bgcolor\":\"white\",\"landcolor\":\"#E5ECF6\",\"subunitcolor\":\"white\",\"showland\":true,\"showlakes\":true,\"lakecolor\":\"white\"},\"title\":{\"x\":0.05},\"mapbox\":{\"style\":\"light\"}}},\"scene\":{\"domain\":{\"x\":[0.0,1.0],\"y\":[0.0,1.0]},\"xaxis\":{\"title\":{\"text\":\"\"}},\"yaxis\":{\"title\":{\"text\":\"\"}},\"zaxis\":{\"title\":{\"text\":\"\"}}},\"legend\":{\"tracegroupgap\":0},\"margin\":{\"t\":60},\"showlegend\":false},                        {\"responsive\": true}                    ).then(function(){\n",
              "                            \n",
              "var gd = document.getElementById('7edbd462-2470-4d6d-b023-730d8f5ba9ae');\n",
              "var x = new MutationObserver(function (mutations, observer) {{\n",
              "        var display = window.getComputedStyle(gd).display;\n",
              "        if (!display || display === 'none') {{\n",
              "            console.log([gd, 'removed!']);\n",
              "            Plotly.purge(gd);\n",
              "            observer.disconnect();\n",
              "        }}\n",
              "}});\n",
              "\n",
              "// Listen for the removal of the full notebook cells\n",
              "var notebookContainer = gd.closest('#notebook-container');\n",
              "if (notebookContainer) {{\n",
              "    x.observe(notebookContainer, {childList: true});\n",
              "}}\n",
              "\n",
              "// Listen for the clearing of the current output cell\n",
              "var outputEl = gd.closest('.output');\n",
              "if (outputEl) {{\n",
              "    x.observe(outputEl, {childList: true});\n",
              "}}\n",
              "\n",
              "                        })                };                            </script>        </div>\n",
              "</body>\n",
              "</html>"
            ]
          },
          "metadata": {}
        }
      ]
    },
    {
      "cell_type": "code",
      "source": [
        "# compare actual colors with distance?\n",
        "import plotly.express as px\n",
        "\n",
        "# color_map = {'red': 'red', 'green': 'green', 'blue': 'blue'}\n",
        "fig = px.scatter_3d(df, x = 'red',\n",
        "                    y = 'green',\n",
        "                    z = 'blue',\n",
        "                    hover_data = ['color', 'group'],\n",
        "                    )\n",
        "\n",
        "fig.update_traces(marker=dict(\n",
        "    # size=12,\n",
        "    # line=dict(width=2, color=df['hex'])),\n",
        "    color=df['hex']),\n",
        "    selector=dict(mode='markers'))\n",
        "fig.update_layout(\n",
        "    showlegend=False,\n",
        "    scene = dict(\n",
        "        xaxis = dict(title = ''),\n",
        "        yaxis = dict(title = ''),\n",
        "        zaxis = dict(title = '')\n",
        "    )\n",
        ")\n",
        "fig.show()"
      ],
      "metadata": {
        "colab": {
          "base_uri": "https://localhost:8080/",
          "height": 542
        },
        "id": "YbxqgccMeeTE",
        "outputId": "5e2280d6-b159-4426-85fc-1d37d926408d"
      },
      "execution_count": null,
      "outputs": [
        {
          "output_type": "display_data",
          "data": {
            "text/html": [
              "<html>\n",
              "<head><meta charset=\"utf-8\" /></head>\n",
              "<body>\n",
              "    <div>            <script src=\"https://cdnjs.cloudflare.com/ajax/libs/mathjax/2.7.5/MathJax.js?config=TeX-AMS-MML_SVG\"></script><script type=\"text/javascript\">if (window.MathJax && window.MathJax.Hub && window.MathJax.Hub.Config) {window.MathJax.Hub.Config({SVG: {font: \"STIX-Web\"}});}</script>                <script type=\"text/javascript\">window.PlotlyConfig = {MathJaxConfig: 'local'};</script>\n",
              "        <script charset=\"utf-8\" src=\"https://cdn.plot.ly/plotly-2.24.1.min.js\"></script>                <div id=\"4709bf3b-9861-416c-b459-7555ac319d82\" class=\"plotly-graph-div\" style=\"height:525px; width:100%;\"></div>            <script type=\"text/javascript\">                                    window.PLOTLYENV=window.PLOTLYENV || {};                                    if (document.getElementById(\"4709bf3b-9861-416c-b459-7555ac319d82\")) {                    Plotly.newPlot(                        \"4709bf3b-9861-416c-b459-7555ac319d82\",                        [{\"customdata\":[[\"darker blue\",\"blue\"],[\"darker green\",\"green\"],[\"green again\",\"green\"],[\"darker purple\",\"blue\"],[\"darker pink\",\"red\"],[\"cloudy blue\",\"blue\"],[\"dark pastel green\",\"green\"],[\"dust\",\"red\"],[\"electric lime\",\"green\"],[\"fresh green\",\"green\"],[\"light eggplant\",\"red\"],[\"nasty green\",\"green\"],[\"really light blue\",\"green\"],[\"tea\",\"green\"],[\"warm purple\",\"red\"],[\"yellowish tan\",\"red\"],[\"cement\",\"red\"],[\"dark grass green\",\"green\"],[\"dusty teal\",\"green\"],[\"grey teal\",\"green\"],[\"macaroni and cheese\",\"red\"],[\"pinkish tan\",\"red\"],[\"spruce\",\"green\"],[\"strong blue\",\"blue\"],[\"toxic green\",\"green\"],[\"windows blue\",\"blue\"],[\"blue blue\",\"blue\"],[\"blue with a hint of purple\",\"blue\"],[\"booger\",\"green\"],[\"bright sea green\",\"green\"],[\"dark green blue\",\"green\"],[\"deep turquoise\",\"blue\"],[\"green teal\",\"green\"],[\"strong pink\",\"red\"],[\"bland\",\"red\"],[\"deep aqua\",\"blue\"],[\"lavender pink\",\"red\"],[\"light moss green\",\"green\"],[\"light seafoam green\",\"green\"],[\"olive yellow\",\"red\"],[\"pig pink\",\"red\"],[\"deep lilac\",\"blue\"],[\"desert\",\"red\"],[\"dusty lavender\",\"red\"],[\"purpley grey\",\"red\"],[\"purply\",\"blue\"],[\"candy pink\",\"red\"],[\"light pastel green\",\"green\"],[\"boring green\",\"green\"],[\"kiwi green\",\"green\"],[\"light grey green\",\"green\"],[\"orange pink\",\"red\"],[\"tea green\",\"green\"],[\"very light brown\",\"red\"],[\"egg shell\",\"red\"],[\"eggplant purple\",\"red\"],[\"powder pink\",\"red\"],[\"reddish grey\",\"red\"],[\"baby shit brown\",\"red\"],[\"liliac\",\"blue\"],[\"stormy blue\",\"blue\"],[\"ugly brown\",\"red\"],[\"custard\",\"red\"],[\"darkish pink\",\"red\"],[\"deep brown\",\"red\"],[\"greenish beige\",\"green\"],[\"manilla\",\"red\"],[\"off blue\",\"blue\"],[\"battleship grey\",\"blue\"],[\"browny green\",\"red\"],[\"bruise\",\"red\"],[\"kelley green\",\"green\"],[\"sickly yellow\",\"green\"],[\"sunny yellow\",\"red\"],[\"azul\",\"blue\"],[\"darkgreen\",\"green\"],[\"green\\u002fyellow\",\"green\"],[\"lichen\",\"green\"],[\"light light green\",\"green\"],[\"pale gold\",\"red\"],[\"sun yellow\",\"red\"],[\"tan green\",\"green\"],[\"burple\",\"blue\"],[\"butterscotch\",\"red\"],[\"toupe\",\"red\"],[\"dark cream\",\"red\"],[\"indian red\",\"red\"],[\"light lavendar\",\"blue\"],[\"poison green\",\"green\"],[\"baby puke green\",\"green\"],[\"bright yellow green\",\"green\"],[\"charcoal grey\",\"blue\"],[\"squash\",\"red\"],[\"cinnamon\",\"red\"],[\"light pea green\",\"green\"],[\"radioactive green\",\"green\"],[\"raw sienna\",\"red\"],[\"baby purple\",\"blue\"],[\"cocoa\",\"red\"],[\"light royal blue\",\"blue\"],[\"orangeish\",\"red\"],[\"rust brown\",\"red\"],[\"sand brown\",\"red\"],[\"swamp\",\"green\"],[\"tealish green\",\"green\"],[\"burnt siena\",\"red\"],[\"camo\",\"green\"],[\"dusk blue\",\"blue\"],[\"fern\",\"green\"],[\"old rose\",\"red\"],[\"pale light green\",\"green\"],[\"peachy pink\",\"red\"],[\"rosy pink\",\"red\"],[\"light bluish green\",\"green\"],[\"light bright green\",\"green\"],[\"light neon green\",\"green\"],[\"light seafoam\",\"green\"],[\"tiffany blue\",\"green\"],[\"washed out green\",\"green\"],[\"browny orange\",\"red\"],[\"nice blue\",\"blue\"],[\"sapphire\",\"blue\"],[\"greyish teal\",\"green\"],[\"orangey yellow\",\"red\"],[\"parchment\",\"red\"],[\"straw\",\"red\"],[\"very dark brown\",\"red\"],[\"terracota\",\"red\"],[\"ugly blue\",\"blue\"],[\"clear blue\",\"blue\"],[\"creme\",\"red\"],[\"foam green\",\"green\"],[\"grey\\u002fgreen\",\"green\"],[\"light gold\",\"red\"],[\"seafoam blue\",\"green\"],[\"topaz\",\"green\"],[\"violet pink\",\"blue\"],[\"wintergreen\",\"green\"],[\"yellow tan\",\"red\"],[\"dark fuchsia\",\"red\"],[\"indigo blue\",\"blue\"],[\"light yellowish green\",\"green\"],[\"pale magenta\",\"red\"],[\"rich purple\",\"red\"],[\"sunflower yellow\",\"red\"],[\"green\\u002fblue\",\"green\"],[\"leather\",\"red\"],[\"racing green\",\"green\"],[\"vivid purple\",\"blue\"],[\"dark royal blue\",\"blue\"],[\"hazel\",\"red\"],[\"muted pink\",\"red\"],[\"booger green\",\"green\"],[\"canary\",\"green\"],[\"cool grey\",\"blue\"],[\"dark taupe\",\"red\"],[\"darkish purple\",\"red\"],[\"true green\",\"green\"],[\"coral pink\",\"red\"],[\"dark sage\",\"green\"],[\"dark slate blue\",\"blue\"],[\"flat blue\",\"blue\"],[\"mushroom\",\"red\"],[\"rich blue\",\"blue\"],[\"dirty purple\",\"red\"],[\"greenblue\",\"green\"],[\"icky green\",\"green\"],[\"light khaki\",\"green\"],[\"warm blue\",\"blue\"],[\"dark hot pink\",\"red\"],[\"deep sea blue\",\"blue\"],[\"carmine\",\"red\"],[\"dark yellow green\",\"green\"],[\"pale peach\",\"red\"],[\"plum purple\",\"blue\"],[\"golden rod\",\"red\"],[\"neon red\",\"red\"],[\"old pink\",\"red\"],[\"very pale blue\",\"green\"],[\"blood orange\",\"red\"],[\"grapefruit\",\"red\"],[\"sand yellow\",\"red\"],[\"clay brown\",\"red\"],[\"dark blue grey\",\"blue\"],[\"flat green\",\"green\"],[\"light green blue\",\"green\"],[\"warm pink\",\"red\"],[\"dodger blue\",\"blue\"],[\"gross green\",\"green\"],[\"ice\",\"green\"],[\"metallic blue\",\"blue\"],[\"pale salmon\",\"red\"],[\"sap green\",\"green\"],[\"algae\",\"green\"],[\"bluey grey\",\"blue\"],[\"greeny grey\",\"green\"],[\"highlighter green\",\"green\"],[\"light light blue\",\"green\"],[\"light mint\",\"green\"],[\"raw umber\",\"red\"],[\"vivid blue\",\"blue\"],[\"deep lavender\",\"blue\"],[\"dull teal\",\"green\"],[\"light greenish blue\",\"green\"],[\"mud green\",\"green\"],[\"pinky\",\"red\"],[\"red wine\",\"red\"],[\"shit green\",\"green\"],[\"tan brown\",\"red\"],[\"darkblue\",\"blue\"],[\"rosa\",\"red\"],[\"lipstick\",\"red\"],[\"pale mauve\",\"red\"],[\"claret\",\"red\"],[\"dandelion\",\"red\"],[\"orangered\",\"red\"],[\"poop green\",\"green\"],[\"ruby\",\"red\"],[\"dark\",\"blue\"],[\"greenish turquoise\",\"green\"],[\"pastel red\",\"red\"],[\"piss yellow\",\"red\"],[\"bright cyan\",\"blue\"],[\"dark coral\",\"red\"],[\"algae green\",\"green\"],[\"darkish red\",\"red\"],[\"reddy brown\",\"red\"],[\"blush pink\",\"red\"],[\"camouflage green\",\"green\"],[\"lawn green\",\"green\"],[\"putty\",\"red\"],[\"vibrant blue\",\"blue\"],[\"dark sand\",\"red\"],[\"purple\\u002fblue\",\"blue\"],[\"saffron\",\"red\"],[\"twilight\",\"blue\"],[\"warm brown\",\"red\"],[\"bluegrey\",\"blue\"],[\"bubble gum pink\",\"red\"],[\"duck egg blue\",\"green\"],[\"greenish cyan\",\"green\"],[\"petrol\",\"blue\"],[\"royal\",\"blue\"],[\"butter\",\"red\"],[\"dusty orange\",\"red\"],[\"off yellow\",\"green\"],[\"pale olive green\",\"green\"],[\"orangish\",\"red\"],[\"leaf\",\"green\"],[\"light blue grey\",\"blue\"],[\"dried blood\",\"red\"],[\"lightish purple\",\"blue\"],[\"rusty red\",\"red\"],[\"lavender blue\",\"blue\"],[\"light grass green\",\"green\"],[\"light mint green\",\"green\"],[\"sunflower\",\"red\"],[\"velvet\",\"red\"],[\"brick orange\",\"red\"],[\"lightish red\",\"red\"],[\"pure blue\",\"blue\"],[\"twilight blue\",\"blue\"],[\"violet red\",\"red\"],[\"yellowy brown\",\"red\"],[\"carnation\",\"red\"],[\"muddy yellow\",\"red\"],[\"dark seafoam green\",\"green\"],[\"deep rose\",\"red\"],[\"dusty red\",\"red\"],[\"grey\\u002fblue\",\"blue\"],[\"lemon lime\",\"green\"],[\"purple\\u002fpink\",\"blue\"],[\"brown yellow\",\"red\"],[\"purple brown\",\"red\"],[\"wisteria\",\"blue\"],[\"banana yellow\",\"green\"],[\"lipstick red\",\"red\"],[\"water blue\",\"blue\"],[\"brown grey\",\"red\"],[\"vibrant purple\",\"blue\"],[\"baby green\",\"green\"],[\"barf green\",\"green\"],[\"eggshell blue\",\"green\"],[\"sandy yellow\",\"red\"],[\"cool green\",\"green\"],[\"pale\",\"red\"],[\"blue\\u002fgrey\",\"blue\"],[\"hot magenta\",\"red\"],[\"greyblue\",\"blue\"],[\"purpley\",\"blue\"],[\"baby shit green\",\"green\"],[\"brownish pink\",\"red\"],[\"dark aquamarine\",\"green\"],[\"diarrhea\",\"red\"],[\"light mustard\",\"red\"],[\"pale sky blue\",\"blue\"],[\"turtle green\",\"green\"],[\"bright olive\",\"green\"],[\"dark grey blue\",\"blue\"],[\"greeny brown\",\"red\"],[\"lemon green\",\"green\"],[\"light periwinkle\",\"blue\"],[\"seaweed green\",\"green\"],[\"sunshine yellow\",\"red\"],[\"ugly purple\",\"red\"],[\"medium pink\",\"red\"],[\"puke brown\",\"red\"],[\"very light pink\",\"red\"],[\"viridian\",\"green\"],[\"bile\",\"green\"],[\"faded yellow\",\"green\"],[\"very pale green\",\"green\"],[\"vibrant green\",\"green\"],[\"bright lime\",\"green\"],[\"spearmint\",\"green\"],[\"light aquamarine\",\"green\"],[\"light sage\",\"green\"],[\"yellowgreen\",\"green\"],[\"baby poo\",\"red\"],[\"dark seafoam\",\"green\"],[\"deep teal\",\"blue\"],[\"heather\",\"blue\"],[\"rust orange\",\"red\"],[\"dirty blue\",\"blue\"],[\"fern green\",\"green\"],[\"bright lilac\",\"blue\"],[\"weird green\",\"green\"],[\"peacock blue\",\"blue\"],[\"avocado green\",\"green\"],[\"faded orange\",\"red\"],[\"grape purple\",\"red\"],[\"hot green\",\"green\"],[\"lime yellow\",\"green\"],[\"mango\",\"red\"],[\"shamrock\",\"green\"],[\"bubblegum\",\"red\"],[\"purplish brown\",\"red\"],[\"vomit yellow\",\"red\"],[\"pale cyan\",\"green\"],[\"key lime\",\"green\"],[\"tomato red\",\"red\"],[\"lightgreen\",\"green\"],[\"merlot\",\"red\"],[\"night blue\",\"blue\"],[\"purpleish pink\",\"red\"],[\"apple\",\"green\"],[\"baby poop green\",\"green\"],[\"green apple\",\"green\"],[\"heliotrope\",\"blue\"],[\"yellow\\u002fgreen\",\"green\"],[\"almost black\",\"green\"],[\"cool blue\",\"blue\"],[\"leafy green\",\"green\"],[\"mustard brown\",\"red\"],[\"dusk\",\"blue\"],[\"dull brown\",\"red\"],[\"frog green\",\"green\"],[\"vivid green\",\"green\"],[\"bright light green\",\"green\"],[\"fluro green\",\"green\"],[\"kiwi\",\"green\"],[\"seaweed\",\"green\"],[\"navy green\",\"green\"],[\"ultramarine blue\",\"blue\"],[\"iris\",\"blue\"],[\"pastel orange\",\"red\"],[\"yellowish orange\",\"red\"],[\"perrywinkle\",\"blue\"],[\"tealish\",\"green\"],[\"dark plum\",\"red\"],[\"pear\",\"green\"],[\"pinkish orange\",\"red\"],[\"midnight purple\",\"blue\"],[\"light urple\",\"blue\"],[\"dark mint\",\"green\"],[\"greenish tan\",\"green\"],[\"light burgundy\",\"red\"],[\"turquoise blue\",\"blue\"],[\"ugly pink\",\"red\"],[\"sandy\",\"red\"],[\"electric pink\",\"red\"],[\"muted purple\",\"blue\"],[\"mid green\",\"green\"],[\"greyish\",\"red\"],[\"neon yellow\",\"green\"],[\"banana\",\"red\"],[\"carnation pink\",\"red\"],[\"tomato\",\"red\"],[\"sea\",\"green\"],[\"muddy brown\",\"red\"],[\"turquoise green\",\"green\"],[\"buff\",\"red\"],[\"fawn\",\"red\"],[\"muted blue\",\"blue\"],[\"pale rose\",\"red\"],[\"dark mint green\",\"green\"],[\"amethyst\",\"blue\"],[\"blue\\u002fgreen\",\"green\"],[\"chestnut\",\"red\"],[\"sick green\",\"green\"],[\"pea\",\"green\"],[\"rusty orange\",\"red\"],[\"stone\",\"red\"],[\"rose red\",\"red\"],[\"pale aqua\",\"green\"],[\"deep orange\",\"red\"],[\"earth\",\"red\"],[\"mossy green\",\"green\"],[\"grassy green\",\"green\"],[\"pale lime green\",\"green\"],[\"light grey blue\",\"blue\"],[\"pale grey\",\"blue\"],[\"asparagus\",\"green\"],[\"blueberry\",\"blue\"],[\"purple red\",\"red\"],[\"pale lime\",\"green\"],[\"greenish teal\",\"green\"],[\"caramel\",\"red\"],[\"deep magenta\",\"red\"],[\"light peach\",\"red\"],[\"milk chocolate\",\"red\"],[\"ocher\",\"red\"],[\"off green\",\"green\"],[\"purply pink\",\"red\"],[\"lightblue\",\"blue\"],[\"dusky blue\",\"blue\"],[\"golden\",\"red\"],[\"light beige\",\"red\"],[\"butter yellow\",\"red\"],[\"dusky purple\",\"red\"],[\"french blue\",\"blue\"],[\"ugly yellow\",\"red\"],[\"greeny yellow\",\"green\"],[\"orangish red\",\"red\"],[\"shamrock green\",\"green\"],[\"orangish brown\",\"red\"],[\"tree green\",\"green\"],[\"deep violet\",\"red\"],[\"gunmetal\",\"blue\"],[\"blue\\u002fpurple\",\"blue\"],[\"cherry\",\"red\"],[\"sandy brown\",\"red\"],[\"warm grey\",\"red\"],[\"dark indigo\",\"blue\"],[\"midnight\",\"blue\"],[\"bluey green\",\"green\"],[\"grey pink\",\"red\"],[\"soft purple\",\"blue\"],[\"blood\",\"red\"],[\"brown red\",\"red\"],[\"medium grey\",\"green\"],[\"berry\",\"red\"],[\"poo\",\"red\"],[\"purpley pink\",\"red\"],[\"light salmon\",\"red\"],[\"snot\",\"green\"],[\"easter purple\",\"blue\"],[\"light yellow green\",\"green\"],[\"dark navy blue\",\"blue\"],[\"drab\",\"green\"],[\"light rose\",\"red\"],[\"rouge\",\"red\"],[\"purplish red\",\"red\"],[\"slime green\",\"green\"],[\"baby poop\",\"red\"],[\"irish green\",\"green\"],[\"pink\\u002fpurple\",\"red\"],[\"dark navy\",\"blue\"],[\"greeny blue\",\"green\"],[\"light plum\",\"red\"],[\"pinkish grey\",\"red\"],[\"dirty orange\",\"red\"],[\"rust red\",\"red\"],[\"pale lilac\",\"blue\"],[\"orangey red\",\"red\"],[\"primary blue\",\"blue\"],[\"kermit green\",\"green\"],[\"brownish purple\",\"red\"],[\"murky green\",\"green\"],[\"wheat\",\"red\"],[\"very dark purple\",\"blue\"],[\"bottle green\",\"green\"],[\"watermelon\",\"red\"],[\"deep sky blue\",\"blue\"],[\"fire engine red\",\"red\"],[\"yellow ochre\",\"red\"],[\"pumpkin orange\",\"red\"],[\"pale olive\",\"green\"],[\"light lilac\",\"blue\"],[\"lightish green\",\"green\"],[\"carolina blue\",\"blue\"],[\"mulberry\",\"red\"],[\"shocking pink\",\"red\"],[\"auburn\",\"red\"],[\"bright lime green\",\"green\"],[\"celadon\",\"green\"],[\"pinkish brown\",\"red\"],[\"poo brown\",\"red\"],[\"bright sky blue\",\"blue\"],[\"celery\",\"green\"],[\"dirt brown\",\"red\"],[\"strawberry\",\"red\"],[\"dark lime\",\"green\"],[\"copper\",\"red\"],[\"medium brown\",\"red\"],[\"muted green\",\"green\"],[\"robin's egg\",\"blue\"],[\"bright aqua\",\"green\"],[\"bright lavender\",\"blue\"],[\"ivory\",\"red\"],[\"very light purple\",\"blue\"],[\"light navy\",\"blue\"],[\"pink red\",\"red\"],[\"olive brown\",\"red\"],[\"poop brown\",\"red\"],[\"mustard green\",\"green\"],[\"ocean green\",\"green\"],[\"very dark blue\",\"blue\"],[\"dusty green\",\"green\"],[\"light navy blue\",\"blue\"],[\"minty green\",\"green\"],[\"adobe\",\"red\"],[\"barney\",\"blue\"],[\"jade green\",\"green\"],[\"bright light blue\",\"blue\"],[\"light lime\",\"green\"],[\"dark khaki\",\"red\"],[\"orange yellow\",\"red\"],[\"ocre\",\"red\"],[\"maize\",\"red\"],[\"faded pink\",\"red\"],[\"british racing green\",\"green\"],[\"sandstone\",\"red\"],[\"mud brown\",\"red\"],[\"light sea green\",\"green\"],[\"robin egg blue\",\"blue\"],[\"aqua marine\",\"green\"],[\"dark sea green\",\"green\"],[\"soft pink\",\"red\"],[\"orangey brown\",\"red\"],[\"cherry red\",\"red\"],[\"burnt yellow\",\"red\"],[\"brownish grey\",\"red\"],[\"camel\",\"red\"],[\"purplish grey\",\"blue\"],[\"marine\",\"blue\"],[\"greyish pink\",\"red\"],[\"pale turquoise\",\"green\"],[\"pastel yellow\",\"red\"],[\"bluey purple\",\"blue\"],[\"canary yellow\",\"red\"],[\"faded red\",\"red\"],[\"sepia\",\"red\"],[\"coffee\",\"red\"],[\"bright magenta\",\"red\"],[\"mocha\",\"red\"],[\"ecru\",\"green\"],[\"purpleish\",\"red\"],[\"cranberry\",\"red\"],[\"darkish green\",\"green\"],[\"brown orange\",\"red\"],[\"dusky rose\",\"red\"],[\"melon\",\"red\"],[\"sickly green\",\"green\"],[\"silver\",\"green\"],[\"purply blue\",\"blue\"],[\"purpleish blue\",\"blue\"],[\"hospital green\",\"green\"],[\"shit brown\",\"red\"],[\"mid blue\",\"blue\"],[\"amber\",\"red\"],[\"easter green\",\"green\"],[\"soft blue\",\"blue\"],[\"cerulean blue\",\"blue\"],[\"golden brown\",\"red\"],[\"bright turquoise\",\"green\"],[\"red pink\",\"red\"],[\"red purple\",\"red\"],[\"greyish brown\",\"red\"],[\"vermillion\",\"red\"],[\"russet\",\"red\"],[\"steel grey\",\"blue\"],[\"lighter purple\",\"blue\"],[\"bright violet\",\"blue\"],[\"prussian blue\",\"blue\"],[\"slate green\",\"green\"],[\"dirty pink\",\"red\"],[\"dark blue green\",\"green\"],[\"pine\",\"green\"],[\"yellowy green\",\"green\"],[\"dark gold\",\"red\"],[\"bluish\",\"blue\"],[\"darkish blue\",\"blue\"],[\"dull red\",\"red\"],[\"pinky red\",\"red\"],[\"bronze\",\"red\"],[\"pale teal\",\"green\"],[\"military green\",\"green\"],[\"barbie pink\",\"red\"],[\"bubblegum pink\",\"red\"],[\"pea soup green\",\"green\"],[\"dark mustard\",\"red\"],[\"shit\",\"red\"],[\"medium purple\",\"blue\"],[\"very dark green\",\"green\"],[\"dirt\",\"red\"],[\"dusky pink\",\"red\"],[\"red violet\",\"red\"],[\"lemon yellow\",\"green\"],[\"pistachio\",\"green\"],[\"dull yellow\",\"red\"],[\"dark lime green\",\"green\"],[\"denim blue\",\"blue\"],[\"teal blue\",\"blue\"],[\"lightish blue\",\"blue\"],[\"purpley blue\",\"blue\"],[\"light indigo\",\"blue\"],[\"swamp green\",\"green\"],[\"brown green\",\"red\"],[\"dark maroon\",\"red\"],[\"hot purple\",\"blue\"],[\"dark forest green\",\"green\"],[\"faded blue\",\"blue\"],[\"drab green\",\"green\"],[\"light lime green\",\"green\"],[\"snot green\",\"green\"],[\"yellowish\",\"red\"],[\"light blue green\",\"green\"],[\"bordeaux\",\"red\"],[\"light mauve\",\"red\"],[\"ocean\",\"blue\"],[\"marigold\",\"red\"],[\"muddy green\",\"green\"],[\"dull orange\",\"red\"],[\"steel\",\"blue\"],[\"electric purple\",\"blue\"],[\"fluorescent green\",\"green\"],[\"yellowish brown\",\"red\"],[\"blush\",\"red\"],[\"soft green\",\"green\"],[\"bright orange\",\"red\"],[\"lemon\",\"green\"],[\"purple grey\",\"red\"],[\"acid green\",\"green\"],[\"pale lavender\",\"blue\"],[\"violet blue\",\"blue\"],[\"light forest green\",\"green\"],[\"burnt red\",\"red\"],[\"khaki green\",\"green\"],[\"cerise\",\"red\"],[\"faded purple\",\"blue\"],[\"apricot\",\"red\"],[\"dark olive green\",\"green\"],[\"grey brown\",\"red\"],[\"green grey\",\"green\"],[\"true blue\",\"blue\"],[\"pale violet\",\"blue\"],[\"periwinkle blue\",\"blue\"],[\"light sky blue\",\"blue\"],[\"blurple\",\"blue\"],[\"green brown\",\"red\"],[\"bluegreen\",\"green\"],[\"bright teal\",\"green\"],[\"brownish yellow\",\"red\"],[\"pea soup\",\"green\"],[\"forest\",\"green\"],[\"barney purple\",\"red\"],[\"ultramarine\",\"blue\"],[\"purplish\",\"red\"],[\"puke yellow\",\"red\"],[\"bluish grey\",\"blue\"],[\"dark periwinkle\",\"blue\"],[\"dark lilac\",\"blue\"],[\"reddish\",\"red\"],[\"light maroon\",\"red\"],[\"dusty purple\",\"blue\"],[\"terra cotta\",\"red\"],[\"avocado\",\"green\"],[\"marine blue\",\"blue\"],[\"teal green\",\"green\"],[\"slate grey\",\"blue\"],[\"lighter green\",\"green\"],[\"electric green\",\"green\"],[\"dusty blue\",\"blue\"],[\"golden yellow\",\"red\"],[\"bright yellow\",\"red\"],[\"light lavender\",\"blue\"],[\"umber\",\"red\"],[\"poop\",\"red\"],[\"dark peach\",\"red\"],[\"jungle green\",\"green\"],[\"eggshell\",\"red\"],[\"denim\",\"blue\"],[\"yellow brown\",\"red\"],[\"dull purple\",\"red\"],[\"chocolate brown\",\"red\"],[\"wine red\",\"red\"],[\"neon blue\",\"blue\"],[\"dirty green\",\"green\"],[\"light tan\",\"red\"],[\"ice blue\",\"green\"],[\"cadet blue\",\"blue\"],[\"dark mauve\",\"red\"],[\"very light blue\",\"green\"],[\"grey purple\",\"blue\"],[\"pastel pink\",\"red\"],[\"very light green\",\"green\"],[\"dark sky blue\",\"blue\"],[\"evergreen\",\"green\"],[\"dull pink\",\"red\"],[\"aubergine\",\"red\"],[\"mahogany\",\"red\"],[\"reddish orange\",\"red\"],[\"deep green\",\"green\"],[\"vomit green\",\"green\"],[\"purple pink\",\"red\"],[\"dusty pink\",\"red\"],[\"faded green\",\"green\"],[\"camo green\",\"green\"],[\"pinky purple\",\"red\"],[\"pink purple\",\"red\"],[\"brownish red\",\"red\"],[\"dark rose\",\"red\"],[\"mud\",\"red\"],[\"brownish\",\"red\"],[\"emerald green\",\"green\"],[\"pale brown\",\"red\"],[\"dull blue\",\"blue\"],[\"burnt umber\",\"red\"],[\"medium green\",\"green\"],[\"clay\",\"red\"],[\"light aqua\",\"green\"],[\"light olive green\",\"green\"],[\"brownish orange\",\"red\"],[\"dark aqua\",\"blue\"],[\"purplish pink\",\"red\"],[\"dark salmon\",\"red\"],[\"greenish grey\",\"green\"],[\"jade\",\"green\"],[\"ugly green\",\"green\"],[\"dark beige\",\"red\"],[\"emerald\",\"green\"],[\"pale red\",\"red\"],[\"light magenta\",\"red\"],[\"sky\",\"blue\"],[\"light cyan\",\"green\"],[\"yellow orange\",\"red\"],[\"reddish purple\",\"red\"],[\"reddish pink\",\"red\"],[\"orchid\",\"red\"],[\"dirty yellow\",\"red\"],[\"orange red\",\"red\"],[\"deep red\",\"red\"],[\"orange brown\",\"red\"],[\"cobalt blue\",\"blue\"],[\"neon pink\",\"red\"],[\"rose pink\",\"red\"],[\"greyish purple\",\"blue\"],[\"raspberry\",\"red\"],[\"aqua green\",\"green\"],[\"salmon pink\",\"red\"],[\"tangerine\",\"red\"],[\"brownish green\",\"green\"],[\"red brown\",\"red\"],[\"greenish brown\",\"red\"],[\"pumpkin\",\"red\"],[\"pine green\",\"green\"],[\"charcoal\",\"green\"],[\"baby pink\",\"red\"],[\"cornflower\",\"blue\"],[\"blue violet\",\"blue\"],[\"chocolate\",\"red\"],[\"greyish green\",\"green\"],[\"scarlet\",\"red\"],[\"green yellow\",\"green\"],[\"dark olive\",\"green\"],[\"sienna\",\"red\"],[\"pastel purple\",\"blue\"],[\"terracotta\",\"red\"],[\"aqua blue\",\"blue\"],[\"sage green\",\"green\"],[\"blood red\",\"red\"],[\"deep pink\",\"red\"],[\"grass\",\"green\"],[\"moss\",\"green\"],[\"pastel blue\",\"blue\"],[\"bluish green\",\"green\"],[\"green blue\",\"green\"],[\"dark tan\",\"red\"],[\"greenish blue\",\"green\"],[\"pale orange\",\"red\"],[\"vomit\",\"green\"],[\"forrest green\",\"green\"],[\"dark lavender\",\"blue\"],[\"dark violet\",\"blue\"],[\"purple blue\",\"blue\"],[\"dark cyan\",\"blue\"],[\"olive drab\",\"green\"],[\"pinkish\",\"red\"],[\"cobalt\",\"blue\"],[\"neon purple\",\"blue\"],[\"light turquoise\",\"green\"],[\"apple green\",\"green\"],[\"dull green\",\"green\"],[\"wine\",\"red\"],[\"powder blue\",\"blue\"],[\"off white\",\"red\"],[\"electric blue\",\"blue\"],[\"dark turquoise\",\"green\"],[\"blue purple\",\"blue\"],[\"azure\",\"blue\"],[\"bright red\",\"red\"],[\"pinkish red\",\"red\"],[\"cornflower blue\",\"blue\"],[\"light olive\",\"green\"],[\"grape\",\"red\"],[\"greyish blue\",\"blue\"],[\"purplish blue\",\"blue\"],[\"yellowish green\",\"green\"],[\"greenish yellow\",\"green\"],[\"medium blue\",\"blue\"],[\"dusty rose\",\"red\"],[\"light violet\",\"blue\"],[\"midnight blue\",\"blue\"],[\"bluish purple\",\"blue\"],[\"red orange\",\"red\"],[\"dark magenta\",\"red\"],[\"greenish\",\"green\"],[\"ocean blue\",\"blue\"],[\"coral\",\"red\"],[\"cream\",\"red\"],[\"reddish brown\",\"red\"],[\"burnt sienna\",\"red\"],[\"brick\",\"red\"],[\"sage\",\"green\"],[\"grey green\",\"green\"],[\"white\",\"red\"],[\"robin's egg blue\",\"blue\"],[\"moss green\",\"green\"],[\"steel blue\",\"blue\"],[\"eggplant\",\"red\"],[\"light yellow\",\"red\"],[\"leaf green\",\"green\"],[\"light grey\",\"green\"],[\"puke\",\"red\"],[\"pinkish purple\",\"blue\"],[\"sea blue\",\"blue\"],[\"pale purple\",\"blue\"],[\"slate blue\",\"blue\"],[\"blue grey\",\"blue\"],[\"hunter green\",\"green\"],[\"fuchsia\",\"red\"],[\"crimson\",\"red\"],[\"pale yellow\",\"red\"],[\"ochre\",\"red\"],[\"mustard yellow\",\"red\"],[\"light red\",\"red\"],[\"cerulean\",\"blue\"],[\"pale pink\",\"red\"],[\"deep blue\",\"blue\"],[\"rust\",\"red\"],[\"light teal\",\"green\"],[\"slate\",\"blue\"],[\"goldenrod\",\"red\"],[\"dark yellow\",\"red\"],[\"dark grey\",\"green\"],[\"army green\",\"green\"],[\"grey blue\",\"blue\"],[\"seafoam\",\"green\"],[\"puce\",\"red\"],[\"spring green\",\"green\"],[\"dark orange\",\"red\"],[\"sand\",\"red\"],[\"pastel green\",\"green\"],[\"mint\",\"green\"],[\"light orange\",\"red\"],[\"bright pink\",\"red\"],[\"chartreuse\",\"green\"],[\"deep purple\",\"blue\"],[\"dark brown\",\"red\"],[\"taupe\",\"red\"],[\"pea green\",\"green\"],[\"puke green\",\"green\"],[\"kelly green\",\"green\"],[\"seafoam green\",\"green\"],[\"blue green\",\"green\"],[\"khaki\",\"red\"],[\"burgundy\",\"red\"],[\"dark teal\",\"blue\"],[\"brick red\",\"red\"],[\"royal purple\",\"blue\"],[\"plum\",\"red\"],[\"mint green\",\"green\"],[\"gold\",\"red\"],[\"baby blue\",\"blue\"],[\"yellow green\",\"green\"],[\"bright purple\",\"blue\"],[\"dark red\",\"red\"],[\"pale blue\",\"green\"],[\"grass green\",\"green\"],[\"navy\",\"blue\"],[\"aquamarine\",\"green\"],[\"burnt orange\",\"red\"],[\"neon green\",\"green\"],[\"bright blue\",\"blue\"],[\"rose\",\"red\"],[\"light pink\",\"red\"],[\"mustard\",\"red\"],[\"indigo\",\"blue\"],[\"lime\",\"green\"],[\"sea green\",\"green\"],[\"periwinkle\",\"blue\"],[\"dark pink\",\"red\"],[\"olive green\",\"green\"],[\"peach\",\"red\"],[\"pale green\",\"green\"],[\"light brown\",\"red\"],[\"hot pink\",\"red\"],[\"black\",\"red\"],[\"lilac\",\"blue\"],[\"navy blue\",\"blue\"],[\"royal blue\",\"blue\"],[\"beige\",\"red\"],[\"salmon\",\"red\"],[\"olive\",\"green\"],[\"maroon\",\"red\"],[\"bright green\",\"green\"],[\"dark purple\",\"blue\"],[\"mauve\",\"red\"],[\"forest green\",\"green\"],[\"aqua\",\"green\"],[\"cyan\",\"green\"],[\"tan\",\"red\"],[\"dark blue\",\"blue\"],[\"lavender\",\"blue\"],[\"turquoise\",\"green\"],[\"dark green\",\"green\"],[\"violet\",\"blue\"],[\"light purple\",\"blue\"],[\"lime green\",\"green\"],[\"grey\",\"green\"],[\"sky blue\",\"blue\"],[\"yellow\",\"red\"],[\"magenta\",\"red\"],[\"light green\",\"green\"],[\"orange\",\"red\"],[\"teal\",\"green\"],[\"light blue\",\"blue\"],[\"red\",\"red\"],[\"brown\",\"red\"],[\"pink\",\"red\"],[\"blue\",\"blue\"],[\"green\",\"green\"],[\"purple\",\"blue\"]],\"hovertemplate\":\"red=%{x}\\u003cbr\\u003egreen=%{y}\\u003cbr\\u003eblue=%{z}\\u003cbr\\u003ecolor=%{customdata[0]}\\u003cbr\\u003egroup=%{customdata[1]}\\u003cextra\\u003e\\u003c\\u002fextra\\u003e\",\"legendgroup\":\"\",\"marker\":{\"color\":[\"#011288\",\"#087804\",\"#16d43f\",\"#5f1b6b\",\"#c4387f\",\"#acc2d9\",\"#56ae57\",\"#b2996e\",\"#a8ff04\",\"#69d84f\",\"#894585\",\"#70b23f\",\"#d4ffff\",\"#65ab7c\",\"#952e8f\",\"#fcfc81\",\"#a5a391\",\"#388004\",\"#4c9085\",\"#5e9b8a\",\"#efb435\",\"#d99b82\",\"#0a5f38\",\"#0c06f7\",\"#61de2a\",\"#3778bf\",\"#2242c7\",\"#533cc6\",\"#9bb53c\",\"#05ffa6\",\"#1f6357\",\"#017374\",\"#0cb577\",\"#ff0789\",\"#afa88b\",\"#08787f\",\"#dd85d7\",\"#a6c875\",\"#a7ffb5\",\"#c2b709\",\"#e78ea5\",\"#966ebd\",\"#ccad60\",\"#ac86a8\",\"#947e94\",\"#983fb2\",\"#ff63e9\",\"#b2fba5\",\"#63b365\",\"#8ee53f\",\"#b7e1a1\",\"#ff6f52\",\"#bdf8a3\",\"#d3b683\",\"#fffcc4\",\"#430541\",\"#ffb2d0\",\"#997570\",\"#ad900d\",\"#c48efd\",\"#507b9c\",\"#7d7103\",\"#fffd78\",\"#da467d\",\"#410200\",\"#c9d179\",\"#fffa86\",\"#5684ae\",\"#6b7c85\",\"#6f6c0a\",\"#7e4071\",\"#009337\",\"#d0e429\",\"#fff917\",\"#1d5dec\",\"#054907\",\"#b5ce08\",\"#8fb67b\",\"#c8ffb0\",\"#fdde6c\",\"#ffdf22\",\"#a9be70\",\"#6832e3\",\"#fdb147\",\"#c7ac7d\",\"#fff39a\",\"#850e04\",\"#efc0fe\",\"#40fd14\",\"#b6c406\",\"#9dff00\",\"#3c4142\",\"#f2ab15\",\"#ac4f06\",\"#c4fe82\",\"#2cfa1f\",\"#9a6200\",\"#ca9bf7\",\"#875f42\",\"#3a2efe\",\"#fd8d49\",\"#8b3103\",\"#cba560\",\"#698339\",\"#0cdc73\",\"#b75203\",\"#7f8f4e\",\"#26538d\",\"#63a950\",\"#c87f89\",\"#b1fc99\",\"#ff9a8a\",\"#f6688e\",\"#76fda8\",\"#53fe5c\",\"#4efd54\",\"#a0febf\",\"#7bf2da\",\"#bcf5a6\",\"#ca6b02\",\"#107ab0\",\"#2138ab\",\"#719f91\",\"#fdb915\",\"#fefcaf\",\"#fcf679\",\"#1d0200\",\"#cb6843\",\"#31668a\",\"#247afd\",\"#ffffb6\",\"#90fda9\",\"#86a17d\",\"#fddc5c\",\"#78d1b6\",\"#13bbaf\",\"#fb5ffc\",\"#20f986\",\"#ffe36e\",\"#9d0759\",\"#3a18b1\",\"#c2ff89\",\"#d767ad\",\"#720058\",\"#ffda03\",\"#01c08d\",\"#ac7434\",\"#014600\",\"#9900fa\",\"#02066f\",\"#8e7618\",\"#d1768f\",\"#96b403\",\"#fdff63\",\"#95a3a6\",\"#7f684e\",\"#751973\",\"#089404\",\"#ff6163\",\"#598556\",\"#214761\",\"#3c73a8\",\"#ba9e88\",\"#021bf9\",\"#734a65\",\"#23c48b\",\"#8fae22\",\"#e6f2a2\",\"#4b57db\",\"#d90166\",\"#015482\",\"#9d0216\",\"#728f02\",\"#ffe5ad\",\"#4e0550\",\"#f9bc08\",\"#ff073a\",\"#c77986\",\"#d6fffe\",\"#fe4b03\",\"#fd5956\",\"#fce166\",\"#b2713d\",\"#1f3b4d\",\"#699d4c\",\"#56fca2\",\"#fb5581\",\"#3e82fc\",\"#a0bf16\",\"#d6fffa\",\"#4f738e\",\"#ffb19a\",\"#5c8b15\",\"#54ac68\",\"#89a0b0\",\"#7ea07a\",\"#1bfc06\",\"#cafffb\",\"#b6ffbb\",\"#a75e09\",\"#152eff\",\"#8d5eb7\",\"#5f9e8f\",\"#63f7b4\",\"#606602\",\"#fc86aa\",\"#8c0034\",\"#758000\",\"#ab7e4c\",\"#030764\",\"#fe86a4\",\"#d5174e\",\"#fed0fc\",\"#680018\",\"#fedf08\",\"#fe420f\",\"#6f7c00\",\"#ca0147\",\"#1b2431\",\"#00fbb0\",\"#db5856\",\"#ddd618\",\"#41fdfe\",\"#cf524e\",\"#21c36f\",\"#a90308\",\"#6e1005\",\"#fe828c\",\"#4b6113\",\"#4da409\",\"#beae8a\",\"#0339f8\",\"#a88f59\",\"#5d21d0\",\"#feb209\",\"#4e518b\",\"#964e02\",\"#85a3b2\",\"#ff69af\",\"#c3fbf4\",\"#2afeb7\",\"#005f6a\",\"#0c1793\",\"#ffff81\",\"#f0833a\",\"#f1f33f\",\"#b1d27b\",\"#fc824a\",\"#71aa34\",\"#b7c9e2\",\"#4b0101\",\"#a552e6\",\"#af2f0d\",\"#8b88f8\",\"#9af764\",\"#a6fbb2\",\"#ffc512\",\"#750851\",\"#c14a09\",\"#fe2f4a\",\"#0203e2\",\"#0a437a\",\"#a50055\",\"#ae8b0c\",\"#fd798f\",\"#bfac05\",\"#3eaf76\",\"#c74767\",\"#b9484e\",\"#647d8e\",\"#bffe28\",\"#d725de\",\"#b29705\",\"#673a3f\",\"#a87dc2\",\"#fafe4b\",\"#c0022f\",\"#0e87cc\",\"#8d8468\",\"#ad03de\",\"#8cff9e\",\"#94ac02\",\"#c4fff7\",\"#fdee73\",\"#33b864\",\"#fff9d0\",\"#758da3\",\"#f504c9\",\"#77a1b5\",\"#8756e4\",\"#889717\",\"#c27e79\",\"#017371\",\"#9f8303\",\"#f7d560\",\"#bdf6fe\",\"#75b84f\",\"#9cbb04\",\"#29465b\",\"#696006\",\"#adf802\",\"#c1c6fc\",\"#35ad6b\",\"#fffd37\",\"#a442a0\",\"#f36196\",\"#947706\",\"#fff4f2\",\"#1e9167\",\"#b5c306\",\"#feff7f\",\"#cffdbc\",\"#0add08\",\"#87fd05\",\"#1ef876\",\"#7bfdc7\",\"#bcecac\",\"#bbf90f\",\"#ab9004\",\"#1fb57a\",\"#00555a\",\"#a484ac\",\"#c45508\",\"#3f829d\",\"#548d44\",\"#c95efb\",\"#3ae57f\",\"#016795\",\"#87a922\",\"#f0944d\",\"#5d1451\",\"#25ff29\",\"#d0fe1d\",\"#ffa62b\",\"#01b44c\",\"#ff6cb5\",\"#6b4247\",\"#c7c10c\",\"#b7fffa\",\"#aeff6e\",\"#ec2d01\",\"#76ff7b\",\"#730039\",\"#040348\",\"#df4ec8\",\"#6ecb3c\",\"#8f9805\",\"#5edc1f\",\"#d94ff5\",\"#c8fd3d\",\"#070d0d\",\"#4984b8\",\"#51b73b\",\"#ac7e04\",\"#4e5481\",\"#876e4b\",\"#58bc08\",\"#2fef10\",\"#2dfe54\",\"#0aff02\",\"#9cef43\",\"#18d17b\",\"#35530a\",\"#1805db\",\"#6258c4\",\"#ff964f\",\"#ffab0f\",\"#8f8ce7\",\"#24bca8\",\"#3f012c\",\"#cbf85f\",\"#ff724c\",\"#280137\",\"#b36ff6\",\"#48c072\",\"#bccb7a\",\"#a8415b\",\"#06b1c4\",\"#cd7584\",\"#f1da7a\",\"#ff0490\",\"#805b87\",\"#50a747\",\"#a8a495\",\"#cfff04\",\"#ffff7e\",\"#ff7fa7\",\"#ef4026\",\"#3c9992\",\"#886806\",\"#04f489\",\"#fef69e\",\"#cfaf7b\",\"#3b719f\",\"#fdc1c5\",\"#20c073\",\"#9b5fc0\",\"#0f9b8e\",\"#742802\",\"#9db92c\",\"#a4bf20\",\"#cd5909\",\"#ada587\",\"#be013c\",\"#b8ffeb\",\"#dc4d01\",\"#a2653e\",\"#638b27\",\"#419c03\",\"#b1ff65\",\"#9dbcd4\",\"#fdfdfe\",\"#77ab56\",\"#464196\",\"#990147\",\"#befd73\",\"#32bf84\",\"#af6f09\",\"#a0025c\",\"#ffd8b1\",\"#7f4e1e\",\"#bf9b0c\",\"#6ba353\",\"#f075e6\",\"#7bc8f6\",\"#475f94\",\"#f5bf03\",\"#fffeb6\",\"#fffd74\",\"#895b7b\",\"#436bad\",\"#d0c101\",\"#c6f808\",\"#f43605\",\"#02c14d\",\"#b25f03\",\"#2a7e19\",\"#490648\",\"#536267\",\"#5a06ef\",\"#cf0234\",\"#c4a661\",\"#978a84\",\"#1f0954\",\"#03012d\",\"#2bb179\",\"#c3909b\",\"#a66fb5\",\"#770001\",\"#922b05\",\"#7d7f7c\",\"#990f4b\",\"#8f7303\",\"#c83cb9\",\"#fea993\",\"#acbb0d\",\"#c071fe\",\"#ccfd7f\",\"#00022e\",\"#828344\",\"#ffc5cb\",\"#ab1239\",\"#b0054b\",\"#99cc04\",\"#937c00\",\"#019529\",\"#ef1de7\",\"#000435\",\"#42b395\",\"#9d5783\",\"#c8aca9\",\"#c87606\",\"#aa2704\",\"#e4cbff\",\"#fa4224\",\"#0804f9\",\"#5cb200\",\"#76424e\",\"#6c7a0e\",\"#fbdd7e\",\"#2a0134\",\"#044a05\",\"#fd4659\",\"#0d75f8\",\"#fe0002\",\"#cb9d06\",\"#fb7d07\",\"#b9cc81\",\"#edc8ff\",\"#61e160\",\"#8ab8fe\",\"#920a4e\",\"#fe02a2\",\"#9a3001\",\"#65fe08\",\"#befdb7\",\"#b17261\",\"#885f01\",\"#02ccfe\",\"#c1fd95\",\"#836539\",\"#fb2943\",\"#84b701\",\"#b66325\",\"#7f5112\",\"#5fa052\",\"#6dedfd\",\"#0bf9ea\",\"#c760ff\",\"#ffffcb\",\"#f6cefc\",\"#155084\",\"#f5054f\",\"#645403\",\"#7a5901\",\"#a8b504\",\"#3d9973\",\"#000133\",\"#76a973\",\"#2e5a88\",\"#0bf77d\",\"#bd6c48\",\"#ac1db8\",\"#2baf6a\",\"#26f7fd\",\"#aefd6c\",\"#9b8f55\",\"#ffad01\",\"#c69c04\",\"#f4d054\",\"#de9dac\",\"#05480d\",\"#c9ae74\",\"#60460f\",\"#98f6b0\",\"#8af1fe\",\"#2ee8bb\",\"#11875d\",\"#fdb0c0\",\"#b16002\",\"#f7022a\",\"#d5ab09\",\"#86775f\",\"#c69f59\",\"#7a687f\",\"#042e60\",\"#c88d94\",\"#a5fbd5\",\"#fffe71\",\"#6241c7\",\"#fffe40\",\"#d3494e\",\"#985e2b\",\"#a6814c\",\"#ff08e8\",\"#9d7651\",\"#feffca\",\"#98568d\",\"#9e003a\",\"#287c37\",\"#b96902\",\"#ba6873\",\"#ff7855\",\"#94b21c\",\"#c5c9c7\",\"#661aee\",\"#6140ef\",\"#9be5aa\",\"#7b5804\",\"#276ab3\",\"#feb308\",\"#8cfd7e\",\"#6488ea\",\"#056eee\",\"#b27a01\",\"#0ffef9\",\"#fa2a55\",\"#820747\",\"#7a6a4f\",\"#f4320c\",\"#a13905\",\"#6f828a\",\"#a55af4\",\"#ad0afd\",\"#004577\",\"#658d6d\",\"#ca7b80\",\"#005249\",\"#2b5d34\",\"#bff128\",\"#b59410\",\"#2976bb\",\"#014182\",\"#bb3f3f\",\"#fc2647\",\"#a87900\",\"#82cbb2\",\"#667c3e\",\"#fe46a5\",\"#fe83cc\",\"#94a617\",\"#a88905\",\"#7f5f00\",\"#9e43a2\",\"#062e03\",\"#8a6e45\",\"#cc7a8b\",\"#9e0168\",\"#fdff38\",\"#c0fa8b\",\"#eedc5b\",\"#7ebd01\",\"#3b5b92\",\"#01889f\",\"#3d7afd\",\"#5f34e7\",\"#6d5acf\",\"#748500\",\"#706c11\",\"#3c0008\",\"#cb00f5\",\"#002d04\",\"#658cbb\",\"#749551\",\"#b9ff66\",\"#9dc100\",\"#faee66\",\"#7efbb3\",\"#7b002c\",\"#c292a1\",\"#017b92\",\"#fcc006\",\"#657432\",\"#d8863b\",\"#738595\",\"#aa23ff\",\"#08ff08\",\"#9b7a01\",\"#f29e8e\",\"#6fc276\",\"#ff5b00\",\"#fdff52\",\"#866f85\",\"#8ffe09\",\"#eecffe\",\"#510ac9\",\"#4f9153\",\"#9f2305\",\"#728639\",\"#de0c62\",\"#916e99\",\"#ffb16d\",\"#3c4d03\",\"#7f7053\",\"#77926f\",\"#010fcc\",\"#ceaefa\",\"#8f99fb\",\"#c6fcff\",\"#5539cc\",\"#544e03\",\"#017a79\",\"#01f9c6\",\"#c9b003\",\"#929901\",\"#0b5509\",\"#a00498\",\"#2000b1\",\"#94568c\",\"#c2be0e\",\"#748b97\",\"#665fd1\",\"#9c6da5\",\"#c44240\",\"#a24857\",\"#825f87\",\"#c9643b\",\"#90b134\",\"#01386a\",\"#25a36f\",\"#59656d\",\"#75fd63\",\"#21fc0d\",\"#5a86ad\",\"#fec615\",\"#fffd01\",\"#dfc5fe\",\"#b26400\",\"#7f5e00\",\"#de7e5d\",\"#048243\",\"#ffffd4\",\"#3b638c\",\"#b79400\",\"#84597e\",\"#411900\",\"#7b0323\",\"#04d9ff\",\"#667e2c\",\"#fbeeac\",\"#d7fffe\",\"#4e7496\",\"#874c62\",\"#d5ffff\",\"#826d8c\",\"#ffbacd\",\"#d1ffbd\",\"#448ee4\",\"#05472a\",\"#d5869d\",\"#3d0734\",\"#4a0100\",\"#f8481c\",\"#02590f\",\"#89a203\",\"#e03fd8\",\"#d58a94\",\"#7bb274\",\"#526525\",\"#c94cbe\",\"#db4bda\",\"#9e3623\",\"#b5485d\",\"#735c12\",\"#9c6d57\",\"#028f1e\",\"#b1916e\",\"#49759c\",\"#a0450e\",\"#39ad48\",\"#b66a50\",\"#8cffdb\",\"#a4be5c\",\"#cb7723\",\"#05696b\",\"#ce5dae\",\"#c85a53\",\"#96ae8d\",\"#1fa774\",\"#7a9703\",\"#ac9362\",\"#01a049\",\"#d9544d\",\"#fa5ff7\",\"#82cafc\",\"#acfffc\",\"#fcb001\",\"#910951\",\"#fe2c54\",\"#c875c4\",\"#cdc50a\",\"#fd411e\",\"#9a0200\",\"#be6400\",\"#030aa7\",\"#fe019a\",\"#f7879a\",\"#887191\",\"#b00149\",\"#12e193\",\"#fe7b7c\",\"#ff9408\",\"#6a6e09\",\"#8b2e16\",\"#696112\",\"#e17701\",\"#0a481e\",\"#343837\",\"#ffb7ce\",\"#6a79f7\",\"#5d06e9\",\"#3d1c02\",\"#82a67d\",\"#be0119\",\"#c9ff27\",\"#373e02\",\"#a9561e\",\"#caa0ff\",\"#ca6641\",\"#02d8e9\",\"#88b378\",\"#980002\",\"#cb0162\",\"#5cac2d\",\"#769958\",\"#a2bffe\",\"#10a674\",\"#06b48b\",\"#af884a\",\"#0b8b87\",\"#ffa756\",\"#a2a415\",\"#154406\",\"#856798\",\"#34013f\",\"#632de9\",\"#0a888a\",\"#6f7632\",\"#d46a7e\",\"#1e488f\",\"#bc13fe\",\"#7ef4cc\",\"#76cd26\",\"#74a662\",\"#80013f\",\"#b1d1fc\",\"#ffffe4\",\"#0652ff\",\"#045c5a\",\"#5729ce\",\"#069af3\",\"#ff000d\",\"#f10c45\",\"#5170d7\",\"#acbf69\",\"#6c3461\",\"#5e819d\",\"#601ef9\",\"#b0dd16\",\"#cdfd02\",\"#2c6fbb\",\"#c0737a\",\"#d6b4fc\",\"#020035\",\"#703be7\",\"#fd3c06\",\"#960056\",\"#40a368\",\"#03719c\",\"#fc5a50\",\"#ffffc2\",\"#7f2b0a\",\"#b04e0f\",\"#a03623\",\"#87ae73\",\"#789b73\",\"#ffffff\",\"#98eff9\",\"#658b38\",\"#5a7d9a\",\"#380835\",\"#fffe7a\",\"#5ca904\",\"#d8dcd6\",\"#a5a502\",\"#d648d7\",\"#047495\",\"#b790d4\",\"#5b7c99\",\"#607c8e\",\"#0b4008\",\"#ed0dd9\",\"#8c000f\",\"#ffff84\",\"#bf9005\",\"#d2bd0a\",\"#ff474c\",\"#0485d1\",\"#ffcfdc\",\"#040273\",\"#a83c09\",\"#90e4c1\",\"#516572\",\"#fac205\",\"#d5b60a\",\"#363737\",\"#4b5d16\",\"#6b8ba4\",\"#80f9ad\",\"#a57e52\",\"#a9f971\",\"#c65102\",\"#e2ca76\",\"#b0ff9d\",\"#9ffeb0\",\"#fdaa48\",\"#fe01b1\",\"#c1f80a\",\"#36013f\",\"#341c02\",\"#b9a281\",\"#8eab12\",\"#9aae07\",\"#02ab2e\",\"#7af9ab\",\"#137e6d\",\"#aaa662\",\"#610023\",\"#014d4e\",\"#8f1402\",\"#4b006e\",\"#580f41\",\"#8fff9f\",\"#dbb40c\",\"#a2cffe\",\"#c0fb2d\",\"#be03fd\",\"#840000\",\"#d0fefe\",\"#3f9b0b\",\"#01153e\",\"#04d8b2\",\"#c04e01\",\"#0cff0c\",\"#0165fc\",\"#cf6275\",\"#ffd1df\",\"#ceb301\",\"#380282\",\"#aaff32\",\"#53fca1\",\"#8e82fe\",\"#cb416b\",\"#677a04\",\"#ffb07c\",\"#c7fdb5\",\"#ad8150\",\"#ff028d\",\"#000000\",\"#cea2fd\",\"#001146\",\"#0504aa\",\"#e6daa6\",\"#ff796c\",\"#6e750e\",\"#650021\",\"#01ff07\",\"#35063e\",\"#ae7181\",\"#06470c\",\"#13eac9\",\"#00ffff\",\"#d1b26f\",\"#00035b\",\"#c79fef\",\"#06c2ac\",\"#033500\",\"#9a0eea\",\"#bf77f6\",\"#89fe05\",\"#929591\",\"#75bbfd\",\"#ffff14\",\"#c20078\",\"#96f97b\",\"#f97306\",\"#029386\",\"#95d0fc\",\"#e50000\",\"#653700\",\"#ff81c0\",\"#0343df\",\"#15b01a\",\"#7e1e9c\"],\"symbol\":\"circle\"},\"mode\":\"markers\",\"name\":\"\",\"scene\":\"scene\",\"showlegend\":false,\"x\":[1,8,22,95,196,172,86,178,168,105,137,112,212,101,149,252,165,56,76,94,239,217,10,12,97,55,34,83,155,5,31,1,12,255,175,8,221,166,167,194,231,150,204,172,148,152,255,178,99,142,183,255,189,211,255,67,255,153,173,196,80,125,255,218,65,201,255,86,107,111,126,0,208,255,29,5,181,143,200,253,255,169,104,253,199,255,133,239,64,182,157,60,242,172,196,44,154,202,135,58,253,139,203,105,12,183,127,38,99,200,177,255,246,118,83,78,160,123,188,202,16,33,113,253,254,252,29,203,49,36,255,144,134,253,120,19,251,32,255,157,58,194,215,114,255,1,172,1,153,2,142,209,150,253,149,127,117,8,255,89,33,60,186,2,115,35,143,230,75,217,1,157,114,255,78,249,255,199,214,254,253,252,178,31,105,86,251,62,160,214,79,255,92,84,137,126,27,202,182,167,21,141,95,99,96,252,140,117,171,3,254,213,254,104,254,254,111,202,27,0,219,221,65,207,33,169,110,254,75,77,190,3,168,93,254,78,150,133,255,195,42,0,12,255,240,241,177,252,113,183,75,165,175,139,154,166,255,117,193,254,2,10,165,174,253,191,62,199,185,100,191,215,178,103,168,250,192,14,141,173,140,148,196,253,51,255,117,245,119,135,136,194,1,159,247,189,117,156,41,105,173,193,53,255,164,243,148,255,30,181,254,207,10,135,30,123,188,187,171,31,0,164,196,63,84,201,58,1,135,240,93,37,208,255,1,255,107,199,183,174,236,118,115,4,223,110,143,94,217,200,7,73,81,172,78,135,88,47,45,10,156,24,53,24,98,255,255,143,36,63,203,255,40,179,72,188,168,6,205,241,255,128,80,168,207,255,255,239,60,136,4,254,207,59,253,32,155,15,116,157,164,205,173,190,184,220,162,99,65,177,157,253,119,70,153,190,50,175,160,255,127,191,107,240,123,71,245,255,255,137,67,208,198,244,2,178,42,73,83,90,207,196,151,31,3,43,195,166,119,146,125,153,143,200,254,172,192,204,0,130,255,171,176,153,147,1,239,0,66,157,200,200,170,228,250,8,92,118,108,251,42,4,253,13,254,203,251,185,237,97,138,146,254,154,101,190,177,136,2,193,131,251,132,182,127,95,109,11,199,255,246,21,245,100,122,168,61,0,118,46,11,189,172,43,38,174,155,255,198,244,222,5,201,96,152,138,46,17,253,177,247,213,134,198,122,4,200,165,255,98,255,211,152,166,255,157,254,152,158,40,185,186,255,148,197,102,97,155,123,39,254,140,100,5,178,15,250,130,122,244,161,111,165,173,0,101,202,0,43,191,181,41,1,187,252,168,130,102,254,254,148,168,127,158,6,138,204,158,253,192,238,126,59,1,61,95,109,116,112,60,203,0,101,116,185,157,250,126,123,194,1,252,101,216,115,170,8,155,242,111,255,253,134,143,238,81,79,159,114,222,145,255,60,127,119,1,206,143,198,85,84,1,1,201,146,11,160,32,148,194,116,102,156,196,162,130,201,144,1,37,89,117,33,90,254,255,223,178,127,222,4,255,59,183,132,65,123,4,102,251,215,78,135,213,130,255,209,68,5,213,61,74,248,2,137,224,213,123,82,201,219,158,181,115,156,2,177,73,160,57,182,140,164,203,5,206,200,150,31,122,172,1,217,250,130,172,252,145,254,200,205,253,154,190,3,254,247,136,176,18,254,255,106,139,105,225,10,52,255,106,93,61,130,190,201,55,169,202,202,2,136,152,203,92,118,162,16,6,175,11,255,162,21,133,52,99,10,111,212,30,188,126,118,116,128,177,255,6,4,87,6,255,241,81,172,108,94,96,176,205,44,192,214,2,112,253,150,64,3,252,255,127,176,160,135,120,255,152,101,90,56,255,92,216,165,214,4,183,91,96,11,237,140,255,191,210,255,4,255,4,168,144,81,250,213,54,75,107,128,165,169,198,226,176,159,253,254,193,54,52,185,142,154,2,122,19,170,97,1,143,75,88,143,219,162,192,190,132,208,63,1,4,192,12,1,207,255,206,56,170,83,142,203,103,255,199,173,255,0,206,0,5,230,255,110,101,1,53,174,6,19,0,209,0,199,6,3,154,191,137,146,117,255,194,150,249,2,149,229,101,255,3,21,126],\"y\":[18,120,212,27,56,194,174,153,255,216,69,178,255,171,46,252,163,128,144,155,180,155,95,6,222,120,66,60,181,255,99,115,181,7,168,120,133,200,255,183,142,110,173,134,126,63,99,251,179,229,225,111,248,182,252,5,178,117,144,142,123,113,253,70,2,209,250,132,124,108,64,147,228,249,93,73,206,182,255,222,223,190,50,177,172,243,14,192,253,196,255,65,171,79,254,250,98,155,95,46,141,49,165,131,220,82,143,83,169,127,252,154,104,253,254,253,254,242,245,107,122,56,159,185,252,246,2,104,102,122,255,253,161,220,209,187,95,249,227,7,24,255,103,0,218,192,116,70,0,6,118,118,180,255,163,104,25,148,97,133,71,115,158,27,74,196,174,242,87,1,84,2,143,229,5,188,7,121,255,75,89,225,113,59,157,252,85,130,191,255,115,177,139,172,160,160,252,255,255,94,46,94,158,247,102,134,0,128,126,7,134,23,208,0,223,66,124,1,36,251,88,214,253,82,195,3,16,130,97,164,174,57,143,33,178,81,78,163,105,251,254,95,23,255,131,243,210,130,170,201,1,82,47,136,247,251,197,8,74,47,3,67,0,139,121,172,175,71,72,125,254,37,151,58,125,254,2,135,132,3,255,172,255,238,184,249,141,4,161,86,151,126,115,131,213,246,184,187,70,96,248,198,173,253,66,97,119,244,145,195,255,253,221,253,248,253,236,249,144,181,85,132,85,130,141,94,229,103,169,148,20,255,254,166,180,108,66,193,255,255,45,255,0,3,78,203,152,220,79,253,13,132,183,126,84,110,188,239,254,255,239,209,83,5,88,150,171,140,188,1,248,114,1,111,192,203,65,177,117,218,4,91,167,164,255,255,127,64,153,104,244,246,175,113,193,192,95,155,40,185,191,89,165,1,255,77,101,139,156,255,188,253,171,65,1,253,191,111,2,216,78,155,163,117,200,95,191,254,253,91,107,193,248,54,193,95,126,6,98,6,2,166,138,9,1,177,144,111,0,43,127,15,115,60,169,187,113,253,2,131,197,18,5,204,124,149,29,4,179,87,172,118,39,203,66,4,178,66,122,221,1,74,70,117,0,157,125,204,200,225,184,10,2,48,254,253,114,95,204,253,101,41,183,99,81,160,237,249,96,255,206,80,5,84,89,181,153,1,169,90,247,108,29,175,247,253,143,173,156,208,157,72,174,70,246,241,232,135,176,96,2,171,119,159,104,46,141,251,254,65,254,73,94,129,8,118,255,86,0,124,105,104,120,178,201,26,64,229,88,106,179,253,136,110,122,254,42,7,106,50,57,130,90,10,69,141,123,82,93,241,148,118,65,63,38,121,203,124,70,131,166,137,95,67,46,110,122,1,255,250,220,189,91,136,122,52,90,133,108,0,0,45,140,149,255,193,238,251,0,146,123,192,116,134,133,35,255,122,158,194,91,255,111,254,207,10,145,35,134,12,110,177,77,112,146,15,174,153,252,57,78,122,249,176,153,85,4,0,86,190,139,95,109,66,72,95,100,177,56,163,101,253,252,134,198,253,197,100,94,126,130,255,99,148,89,25,3,217,126,238,255,116,76,255,109,186,255,142,71,134,7,1,72,89,162,63,138,178,101,76,75,54,72,92,109,143,145,117,69,173,106,255,190,119,105,93,90,174,167,151,147,160,84,95,202,255,176,9,44,117,197,65,2,100,10,1,135,113,1,225,123,148,110,46,97,119,72,56,183,121,6,28,166,1,255,62,86,160,102,216,179,0,1,172,153,191,166,180,136,139,167,164,68,103,1,45,136,118,106,72,19,244,205,166,1,209,255,82,92,41,154,0,12,112,191,52,129,30,221,253,111,115,180,0,59,60,0,163,113,90,255,43,78,54,174,155,255,239,139,125,8,254,169,220,165,72,116,144,124,124,64,13,0,255,144,189,71,133,207,2,60,228,101,194,182,55,93,139,249,126,249,81,202,255,254,170,1,248,1,28,162,171,174,171,249,126,166,0,77,20,0,15,255,180,207,251,3,0,254,155,21,216,78,255,101,98,209,179,2,255,252,130,65,122,176,253,129,2,0,162,17,4,218,121,117,0,255,6,113,71,234,255,178,3,159,194,53,14,119,254,149,187,255,0,249,115,147,208,0,55,129,67,176,30],\"z\":[136,4,63,107,127,217,87,110,4,79,133,63,255,124,143,129,145,4,133,138,53,130,56,247,42,191,199,198,60,166,87,116,119,137,139,127,215,117,181,9,165,189,96,168,148,178,233,165,101,63,161,82,163,131,196,65,208,112,13,253,156,3,120,125,0,121,134,174,133,10,113,55,41,23,236,7,8,123,176,108,34,112,227,71,125,154,4,254,20,6,0,66,21,6,130,31,0,247,66,254,73,3,96,57,115,3,78,141,80,137,153,138,142,168,92,84,191,218,166,2,176,171,145,21,175,121,0,67,138,253,182,169,125,92,182,175,252,134,110,89,177,137,173,88,3,141,52,0,250,111,24,143,3,99,166,78,115,4,99,86,97,168,136,249,101,139,34,162,219,102,130,22,2,173,80,8,58,134,254,3,86,102,61,77,76,162,129,252,22,250,142,154,21,104,176,122,6,251,187,9,255,183,143,180,2,170,52,0,76,100,164,78,252,24,8,15,0,71,49,176,86,24,254,78,111,8,5,140,19,9,138,248,89,208,9,139,2,178,175,244,183,106,147,129,58,63,123,74,52,226,1,230,13,248,100,178,18,81,9,74,226,122,85,12,143,5,118,103,78,142,40,222,5,63,194,75,47,204,104,222,158,2,247,115,100,208,163,201,181,228,23,121,113,3,96,254,79,4,91,6,2,252,107,55,160,150,6,242,103,6,127,188,8,5,118,199,172,15,4,122,90,172,8,157,68,251,127,149,34,77,81,41,29,43,76,181,71,12,250,110,1,123,57,72,200,60,5,31,245,61,13,184,59,4,129,75,8,16,84,2,67,123,10,219,196,79,15,231,168,44,95,76,55,246,114,122,91,196,132,122,144,135,71,149,4,126,167,38,146,6,137,158,123,159,197,115,192,142,2,44,32,9,135,60,235,1,62,39,3,101,212,254,86,150,71,115,132,9,92,177,30,12,83,230,246,148,3,182,116,123,173,1,8,5,77,3,25,72,103,239,52,97,132,84,45,121,155,181,1,5,124,75,3,185,147,13,254,127,46,68,203,57,75,4,0,41,231,53,149,131,169,6,4,255,36,249,0,78,14,126,52,5,89,248,2,6,7,129,255,96,254,78,162,1,8,183,97,1,254,149,57,67,1,37,18,82,253,234,255,203,252,132,79,3,1,4,115,51,115,136,125,72,184,106,253,108,85,1,4,84,172,13,116,15,176,254,187,93,192,2,42,9,95,89,127,96,148,213,113,199,64,78,43,76,232,81,202,141,58,55,2,115,85,28,199,238,239,170,4,179,8,126,234,238,1,249,85,71,79,12,5,138,244,253,119,109,128,73,52,40,16,187,130,63,71,0,178,62,165,204,23,5,0,162,3,69,139,104,56,139,91,1,146,159,253,231,207,0,17,8,245,4,187,81,102,0,102,179,44,161,146,6,50,59,149,255,8,1,142,118,0,82,133,9,254,201,83,5,57,98,153,109,3,83,111,204,250,251,255,204,3,121,198,3,1,9,152,177,140,14,151,209,165,64,87,135,59,52,106,111,109,99,13,173,21,1,254,0,0,93,67,212,140,0,126,0,35,255,44,172,254,150,98,255,140,205,189,228,42,157,52,0,28,15,3,216,148,116,37,190,218,35,93,18,87,30,110,156,14,72,80,219,92,35,107,174,83,141,116,3,98,73,77,247,252,252,1,81,84,196,10,30,0,0,167,154,154,145,73,147,124,8,9,22,18,1,30,55,206,247,233,2,125,25,39,2,30,255,65,233,120,2,98,45,88,254,116,139,74,135,86,21,6,152,63,233,138,50,126,143,254,204,38,98,63,252,228,255,90,206,243,13,69,215,105,97,157,249,22,2,187,122,252,53,231,6,86,104,156,80,194,10,15,35,115,115,255,249,56,154,53,122,4,214,2,215,149,212,153,142,8,217,15,132,5,10,76,209,220,115,9,193,114,5,10,55,22,164,173,82,113,2,118,157,176,72,177,10,63,2,129,18,7,46,171,109,98,35,78,2,110,65,159,12,254,45,253,0,254,11,62,178,1,12,252,117,223,1,130,50,161,254,107,4,124,181,80,141,0,253,70,170,166,108,14,33,7,62,129,12,201,255,111,91,239,172,0,234,246,5,145,253,20,120,123,6,134,252,0,0,192,223,26,156],\"type\":\"scatter3d\"}],                        {\"template\":{\"data\":{\"histogram2dcontour\":[{\"type\":\"histogram2dcontour\",\"colorbar\":{\"outlinewidth\":0,\"ticks\":\"\"},\"colorscale\":[[0.0,\"#0d0887\"],[0.1111111111111111,\"#46039f\"],[0.2222222222222222,\"#7201a8\"],[0.3333333333333333,\"#9c179e\"],[0.4444444444444444,\"#bd3786\"],[0.5555555555555556,\"#d8576b\"],[0.6666666666666666,\"#ed7953\"],[0.7777777777777778,\"#fb9f3a\"],[0.8888888888888888,\"#fdca26\"],[1.0,\"#f0f921\"]]}],\"choropleth\":[{\"type\":\"choropleth\",\"colorbar\":{\"outlinewidth\":0,\"ticks\":\"\"}}],\"histogram2d\":[{\"type\":\"histogram2d\",\"colorbar\":{\"outlinewidth\":0,\"ticks\":\"\"},\"colorscale\":[[0.0,\"#0d0887\"],[0.1111111111111111,\"#46039f\"],[0.2222222222222222,\"#7201a8\"],[0.3333333333333333,\"#9c179e\"],[0.4444444444444444,\"#bd3786\"],[0.5555555555555556,\"#d8576b\"],[0.6666666666666666,\"#ed7953\"],[0.7777777777777778,\"#fb9f3a\"],[0.8888888888888888,\"#fdca26\"],[1.0,\"#f0f921\"]]}],\"heatmap\":[{\"type\":\"heatmap\",\"colorbar\":{\"outlinewidth\":0,\"ticks\":\"\"},\"colorscale\":[[0.0,\"#0d0887\"],[0.1111111111111111,\"#46039f\"],[0.2222222222222222,\"#7201a8\"],[0.3333333333333333,\"#9c179e\"],[0.4444444444444444,\"#bd3786\"],[0.5555555555555556,\"#d8576b\"],[0.6666666666666666,\"#ed7953\"],[0.7777777777777778,\"#fb9f3a\"],[0.8888888888888888,\"#fdca26\"],[1.0,\"#f0f921\"]]}],\"heatmapgl\":[{\"type\":\"heatmapgl\",\"colorbar\":{\"outlinewidth\":0,\"ticks\":\"\"},\"colorscale\":[[0.0,\"#0d0887\"],[0.1111111111111111,\"#46039f\"],[0.2222222222222222,\"#7201a8\"],[0.3333333333333333,\"#9c179e\"],[0.4444444444444444,\"#bd3786\"],[0.5555555555555556,\"#d8576b\"],[0.6666666666666666,\"#ed7953\"],[0.7777777777777778,\"#fb9f3a\"],[0.8888888888888888,\"#fdca26\"],[1.0,\"#f0f921\"]]}],\"contourcarpet\":[{\"type\":\"contourcarpet\",\"colorbar\":{\"outlinewidth\":0,\"ticks\":\"\"}}],\"contour\":[{\"type\":\"contour\",\"colorbar\":{\"outlinewidth\":0,\"ticks\":\"\"},\"colorscale\":[[0.0,\"#0d0887\"],[0.1111111111111111,\"#46039f\"],[0.2222222222222222,\"#7201a8\"],[0.3333333333333333,\"#9c179e\"],[0.4444444444444444,\"#bd3786\"],[0.5555555555555556,\"#d8576b\"],[0.6666666666666666,\"#ed7953\"],[0.7777777777777778,\"#fb9f3a\"],[0.8888888888888888,\"#fdca26\"],[1.0,\"#f0f921\"]]}],\"surface\":[{\"type\":\"surface\",\"colorbar\":{\"outlinewidth\":0,\"ticks\":\"\"},\"colorscale\":[[0.0,\"#0d0887\"],[0.1111111111111111,\"#46039f\"],[0.2222222222222222,\"#7201a8\"],[0.3333333333333333,\"#9c179e\"],[0.4444444444444444,\"#bd3786\"],[0.5555555555555556,\"#d8576b\"],[0.6666666666666666,\"#ed7953\"],[0.7777777777777778,\"#fb9f3a\"],[0.8888888888888888,\"#fdca26\"],[1.0,\"#f0f921\"]]}],\"mesh3d\":[{\"type\":\"mesh3d\",\"colorbar\":{\"outlinewidth\":0,\"ticks\":\"\"}}],\"scatter\":[{\"fillpattern\":{\"fillmode\":\"overlay\",\"size\":10,\"solidity\":0.2},\"type\":\"scatter\"}],\"parcoords\":[{\"type\":\"parcoords\",\"line\":{\"colorbar\":{\"outlinewidth\":0,\"ticks\":\"\"}}}],\"scatterpolargl\":[{\"type\":\"scatterpolargl\",\"marker\":{\"colorbar\":{\"outlinewidth\":0,\"ticks\":\"\"}}}],\"bar\":[{\"error_x\":{\"color\":\"#2a3f5f\"},\"error_y\":{\"color\":\"#2a3f5f\"},\"marker\":{\"line\":{\"color\":\"#E5ECF6\",\"width\":0.5},\"pattern\":{\"fillmode\":\"overlay\",\"size\":10,\"solidity\":0.2}},\"type\":\"bar\"}],\"scattergeo\":[{\"type\":\"scattergeo\",\"marker\":{\"colorbar\":{\"outlinewidth\":0,\"ticks\":\"\"}}}],\"scatterpolar\":[{\"type\":\"scatterpolar\",\"marker\":{\"colorbar\":{\"outlinewidth\":0,\"ticks\":\"\"}}}],\"histogram\":[{\"marker\":{\"pattern\":{\"fillmode\":\"overlay\",\"size\":10,\"solidity\":0.2}},\"type\":\"histogram\"}],\"scattergl\":[{\"type\":\"scattergl\",\"marker\":{\"colorbar\":{\"outlinewidth\":0,\"ticks\":\"\"}}}],\"scatter3d\":[{\"type\":\"scatter3d\",\"line\":{\"colorbar\":{\"outlinewidth\":0,\"ticks\":\"\"}},\"marker\":{\"colorbar\":{\"outlinewidth\":0,\"ticks\":\"\"}}}],\"scattermapbox\":[{\"type\":\"scattermapbox\",\"marker\":{\"colorbar\":{\"outlinewidth\":0,\"ticks\":\"\"}}}],\"scatterternary\":[{\"type\":\"scatterternary\",\"marker\":{\"colorbar\":{\"outlinewidth\":0,\"ticks\":\"\"}}}],\"scattercarpet\":[{\"type\":\"scattercarpet\",\"marker\":{\"colorbar\":{\"outlinewidth\":0,\"ticks\":\"\"}}}],\"carpet\":[{\"aaxis\":{\"endlinecolor\":\"#2a3f5f\",\"gridcolor\":\"white\",\"linecolor\":\"white\",\"minorgridcolor\":\"white\",\"startlinecolor\":\"#2a3f5f\"},\"baxis\":{\"endlinecolor\":\"#2a3f5f\",\"gridcolor\":\"white\",\"linecolor\":\"white\",\"minorgridcolor\":\"white\",\"startlinecolor\":\"#2a3f5f\"},\"type\":\"carpet\"}],\"table\":[{\"cells\":{\"fill\":{\"color\":\"#EBF0F8\"},\"line\":{\"color\":\"white\"}},\"header\":{\"fill\":{\"color\":\"#C8D4E3\"},\"line\":{\"color\":\"white\"}},\"type\":\"table\"}],\"barpolar\":[{\"marker\":{\"line\":{\"color\":\"#E5ECF6\",\"width\":0.5},\"pattern\":{\"fillmode\":\"overlay\",\"size\":10,\"solidity\":0.2}},\"type\":\"barpolar\"}],\"pie\":[{\"automargin\":true,\"type\":\"pie\"}]},\"layout\":{\"autotypenumbers\":\"strict\",\"colorway\":[\"#636efa\",\"#EF553B\",\"#00cc96\",\"#ab63fa\",\"#FFA15A\",\"#19d3f3\",\"#FF6692\",\"#B6E880\",\"#FF97FF\",\"#FECB52\"],\"font\":{\"color\":\"#2a3f5f\"},\"hovermode\":\"closest\",\"hoverlabel\":{\"align\":\"left\"},\"paper_bgcolor\":\"white\",\"plot_bgcolor\":\"#E5ECF6\",\"polar\":{\"bgcolor\":\"#E5ECF6\",\"angularaxis\":{\"gridcolor\":\"white\",\"linecolor\":\"white\",\"ticks\":\"\"},\"radialaxis\":{\"gridcolor\":\"white\",\"linecolor\":\"white\",\"ticks\":\"\"}},\"ternary\":{\"bgcolor\":\"#E5ECF6\",\"aaxis\":{\"gridcolor\":\"white\",\"linecolor\":\"white\",\"ticks\":\"\"},\"baxis\":{\"gridcolor\":\"white\",\"linecolor\":\"white\",\"ticks\":\"\"},\"caxis\":{\"gridcolor\":\"white\",\"linecolor\":\"white\",\"ticks\":\"\"}},\"coloraxis\":{\"colorbar\":{\"outlinewidth\":0,\"ticks\":\"\"}},\"colorscale\":{\"sequential\":[[0.0,\"#0d0887\"],[0.1111111111111111,\"#46039f\"],[0.2222222222222222,\"#7201a8\"],[0.3333333333333333,\"#9c179e\"],[0.4444444444444444,\"#bd3786\"],[0.5555555555555556,\"#d8576b\"],[0.6666666666666666,\"#ed7953\"],[0.7777777777777778,\"#fb9f3a\"],[0.8888888888888888,\"#fdca26\"],[1.0,\"#f0f921\"]],\"sequentialminus\":[[0.0,\"#0d0887\"],[0.1111111111111111,\"#46039f\"],[0.2222222222222222,\"#7201a8\"],[0.3333333333333333,\"#9c179e\"],[0.4444444444444444,\"#bd3786\"],[0.5555555555555556,\"#d8576b\"],[0.6666666666666666,\"#ed7953\"],[0.7777777777777778,\"#fb9f3a\"],[0.8888888888888888,\"#fdca26\"],[1.0,\"#f0f921\"]],\"diverging\":[[0,\"#8e0152\"],[0.1,\"#c51b7d\"],[0.2,\"#de77ae\"],[0.3,\"#f1b6da\"],[0.4,\"#fde0ef\"],[0.5,\"#f7f7f7\"],[0.6,\"#e6f5d0\"],[0.7,\"#b8e186\"],[0.8,\"#7fbc41\"],[0.9,\"#4d9221\"],[1,\"#276419\"]]},\"xaxis\":{\"gridcolor\":\"white\",\"linecolor\":\"white\",\"ticks\":\"\",\"title\":{\"standoff\":15},\"zerolinecolor\":\"white\",\"automargin\":true,\"zerolinewidth\":2},\"yaxis\":{\"gridcolor\":\"white\",\"linecolor\":\"white\",\"ticks\":\"\",\"title\":{\"standoff\":15},\"zerolinecolor\":\"white\",\"automargin\":true,\"zerolinewidth\":2},\"scene\":{\"xaxis\":{\"backgroundcolor\":\"#E5ECF6\",\"gridcolor\":\"white\",\"linecolor\":\"white\",\"showbackground\":true,\"ticks\":\"\",\"zerolinecolor\":\"white\",\"gridwidth\":2},\"yaxis\":{\"backgroundcolor\":\"#E5ECF6\",\"gridcolor\":\"white\",\"linecolor\":\"white\",\"showbackground\":true,\"ticks\":\"\",\"zerolinecolor\":\"white\",\"gridwidth\":2},\"zaxis\":{\"backgroundcolor\":\"#E5ECF6\",\"gridcolor\":\"white\",\"linecolor\":\"white\",\"showbackground\":true,\"ticks\":\"\",\"zerolinecolor\":\"white\",\"gridwidth\":2}},\"shapedefaults\":{\"line\":{\"color\":\"#2a3f5f\"}},\"annotationdefaults\":{\"arrowcolor\":\"#2a3f5f\",\"arrowhead\":0,\"arrowwidth\":1},\"geo\":{\"bgcolor\":\"white\",\"landcolor\":\"#E5ECF6\",\"subunitcolor\":\"white\",\"showland\":true,\"showlakes\":true,\"lakecolor\":\"white\"},\"title\":{\"x\":0.05},\"mapbox\":{\"style\":\"light\"}}},\"scene\":{\"domain\":{\"x\":[0.0,1.0],\"y\":[0.0,1.0]},\"xaxis\":{\"title\":{\"text\":\"\"}},\"yaxis\":{\"title\":{\"text\":\"\"}},\"zaxis\":{\"title\":{\"text\":\"\"}}},\"legend\":{\"tracegroupgap\":0},\"margin\":{\"t\":60},\"showlegend\":false},                        {\"responsive\": true}                    ).then(function(){\n",
              "                            \n",
              "var gd = document.getElementById('4709bf3b-9861-416c-b459-7555ac319d82');\n",
              "var x = new MutationObserver(function (mutations, observer) {{\n",
              "        var display = window.getComputedStyle(gd).display;\n",
              "        if (!display || display === 'none') {{\n",
              "            console.log([gd, 'removed!']);\n",
              "            Plotly.purge(gd);\n",
              "            observer.disconnect();\n",
              "        }}\n",
              "}});\n",
              "\n",
              "// Listen for the removal of the full notebook cells\n",
              "var notebookContainer = gd.closest('#notebook-container');\n",
              "if (notebookContainer) {{\n",
              "    x.observe(notebookContainer, {childList: true});\n",
              "}}\n",
              "\n",
              "// Listen for the clearing of the current output cell\n",
              "var outputEl = gd.closest('.output');\n",
              "if (outputEl) {{\n",
              "    x.observe(outputEl, {childList: true});\n",
              "}}\n",
              "\n",
              "                        })                };                            </script>        </div>\n",
              "</body>\n",
              "</html>"
            ]
          },
          "metadata": {}
        }
      ]
    },
    {
      "cell_type": "code",
      "source": [
        "# subtract colors\n",
        "closest(colors, subtractv(colors['purple'], colors['red']))"
      ],
      "metadata": {
        "id": "eRRNnKQUXSoD",
        "outputId": "8c66f34f-2f77-4463-fb84-59d7964e7dc3",
        "colab": {
          "base_uri": "https://localhost:8080/"
        }
      },
      "execution_count": null,
      "outputs": [
        {
          "output_type": "execute_result",
          "data": {
            "text/plain": [
              "['darker blue', 'cobalt blue', 'royal blue', 'darkish blue', 'true blue']"
            ]
          },
          "metadata": {},
          "execution_count": 12
        }
      ]
    },
    {
      "cell_type": "code",
      "source": [
        "# add colors\n",
        "closest(colors, addv(colors['blue'], colors['green']))"
      ],
      "metadata": {
        "id": "d_3U5u8mXaj-",
        "outputId": "c1edeb29-eb60-43dc-874e-b37b5e7d265b",
        "colab": {
          "base_uri": "https://localhost:8080/"
        }
      },
      "execution_count": null,
      "outputs": [
        {
          "output_type": "execute_result",
          "data": {
            "text/plain": [
              "['bright turquoise', 'bright light blue', 'bright aqua', 'cyan', 'neon blue']"
            ]
          },
          "metadata": {},
          "execution_count": 13
        }
      ]
    },
    {
      "cell_type": "code",
      "source": [
        "# the average of black and white: medium grey\n",
        "closest(colors, meanv([colors['black'][:3], colors['white'][:3]]))"
      ],
      "metadata": {
        "id": "6WSSbBBNXm6O",
        "outputId": "207b419a-e837-4b1c-9db4-afaca0cccf6a",
        "colab": {
          "base_uri": "https://localhost:8080/"
        }
      },
      "execution_count": null,
      "outputs": [
        {
          "output_type": "execute_result",
          "data": {
            "text/plain": [
              "['medium grey', 'purple grey', 'steel grey', 'battleship grey', 'grey purple']"
            ]
          },
          "metadata": {},
          "execution_count": 16
        }
      ]
    },
    {
      "cell_type": "code",
      "source": [
        "# an analogy: pink is to red as X is to blue\n",
        "pink_to_red = subtractv(colors['pink'], colors['red'])\n",
        "closest(colors, addv(pink_to_red, colors['blue']))"
      ],
      "metadata": {
        "id": "t69DbOY9XuIQ",
        "outputId": "aa8f3357-296a-471b-96ac-1bbe97434834",
        "colab": {
          "base_uri": "https://localhost:8080/"
        }
      },
      "execution_count": null,
      "outputs": [
        {
          "output_type": "execute_result",
          "data": {
            "text/plain": [
              "['neon blue', 'bright sky blue', 'bright light blue', 'cyan', 'bright cyan']"
            ]
          },
          "metadata": {},
          "execution_count": 17
        }
      ]
    },
    {
      "cell_type": "code",
      "source": [
        "# another example:\n",
        "navy_to_blue = subtractv(colors['navy'], colors['blue'])\n",
        "closest(colors, addv(navy_to_blue, colors['green']))"
      ],
      "metadata": {
        "id": "DdixP7OkXuvs",
        "outputId": "d66b6757-aeba-42b3-ad66-3dd271eb502f",
        "colab": {
          "base_uri": "https://localhost:8080/"
        }
      },
      "execution_count": null,
      "outputs": [
        {
          "output_type": "execute_result",
          "data": {
            "text/plain": [
              "['darker green',\n",
              " 'true green',\n",
              " 'dark grass green',\n",
              " 'grassy green',\n",
              " 'racing green']"
            ]
          },
          "metadata": {},
          "execution_count": 18
        }
      ]
    }
  ]
}